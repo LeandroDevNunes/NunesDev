{
 "cells": [
  {
   "cell_type": "markdown",
   "id": "4a57b7e6",
   "metadata": {},
   "source": [
    "#### Realize as seguintes atividades usando um notebook Jupyter\n",
    "#### a) Use a estrutura “for” para gerar uma sequência de números pares até 20.\n",
    "#### b) Use a estrutura “for” para gerar números entre 1 e 10, exceto o número 7.\n",
    "#### c) Use a estrutura “while” para listar as regiões do Brasil (“Norte”, “Nordeste”, “Sul”, “Centro-Oeste” e Sudeste), exceto a região “Centro-Oeste”"
   ]
  },
  {
   "cell_type": "code",
   "execution_count": null,
   "id": "9184f78f",
   "metadata": {},
   "outputs": [],
   "source": []
  },
  {
   "cell_type": "code",
   "execution_count": null,
   "id": "383274e3",
   "metadata": {},
   "outputs": [],
   "source": [
    "regioes = [\"Norte\", \"Nordeste\", \"Sul\", \"Centro-Oeste\", \"Sudeste\"]\n",
    "i = 0\n",
    "while True:\n",
    "    if i == len (regioes):\n",
    "        break\n",
    "    if regioes[i] == \"Centro-Oeste\":\n",
    "        i += 1\n",
    "    if regioes[i] == \"Centro-Oeste\":\n",
    "        break\n",
    "    print (regioes[i])\n",
    "    print (i)"
   ]
  },
  {
   "cell_type": "code",
   "execution_count": null,
   "id": "fcb2a718",
   "metadata": {},
   "outputs": [],
   "source": [
    "regioes = ['Norte', 'Nordeste', 'Sul', 'Centro-Oeste', 'Centro-Oeste', 'Sudeste'] \n",
    "while regioes: r=regioes.pop(0) \n",
    "    print(regioes) \n",
    "    if r== 'Centro-Oeste': \n",
    "        continue print(r) \n",
    "        print (\"lista finalizada\")"
   ]
  }
 ],
 "metadata": {
  "kernelspec": {
   "display_name": "Python 3 (ipykernel)",
   "language": "python",
   "name": "python3"
  },
  "language_info": {
   "codemirror_mode": {
    "name": "ipython",
    "version": 3
   },
   "file_extension": ".py",
   "mimetype": "text/x-python",
   "name": "python",
   "nbconvert_exporter": "python",
   "pygments_lexer": "ipython3",
   "version": "3.9.7"
  }
 },
 "nbformat": 4,
 "nbformat_minor": 5
}
