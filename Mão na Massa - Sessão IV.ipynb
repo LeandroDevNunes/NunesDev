{
 "cells": [
  {
   "cell_type": "markdown",
   "id": "a7256942",
   "metadata": {},
   "source": [
    "# <center>Sessão IV</center>"
   ]
  },
  {
   "cell_type": "code",
   "execution_count": 8,
   "id": "69379add",
   "metadata": {},
   "outputs": [
    {
     "name": "stdout",
     "output_type": "stream",
     "text": [
      "Negativo\n"
     ]
    }
   ],
   "source": [
    "#Atribua 500 para a variável “valor”. Se valor for maior que 500, imprima “Grande” na tela. Se o valor estiver entre 300 e 500,\n",
    "#imprima “Médio” na tela. Se o valor for menor que 300, imprima “Pequeno” na tela. Altere o conteúdo da variável valor, para ver\n",
    "#como o resultado se comporta\n",
    "\n",
    "valor=-2\n",
    "if valor>500: \n",
    "    print(\"Grande\")\n",
    "\n",
    "if valor>=300 and valor <=500:\n",
    "    print(\"Médio\")\n",
    "    \n",
    "if valor>=0 and valor<=300:\n",
    "    print(\"Negativo\")\n",
    "    \n",
    "if valor<0:\n",
    "    print(\"Negativo\")"
   ]
  },
  {
   "cell_type": "code",
   "execution_count": 16,
   "id": "d725d8f7",
   "metadata": {},
   "outputs": [
    {
     "name": "stdout",
     "output_type": "stream",
     "text": [
      "Negativo\n"
     ]
    }
   ],
   "source": [
    "#Como ficaria esse código se você tivesse que incluir uma 4ª condição, valor<0 e mostrar o valor “Negativo” na tela?\n",
    "\n",
    "valor=-1\n",
    "if valor<0:\n",
    "    print(\"Negativo\")"
   ]
  },
  {
   "cell_type": "code",
   "execution_count": 4,
   "id": "b3506280",
   "metadata": {},
   "outputs": [
    {
     "name": "stdout",
     "output_type": "stream",
     "text": [
      "Moto\n"
     ]
    }
   ],
   "source": [
    "#Crie um código usando estruturas condicionais para classificar essa lista de veículos em carro , moto ou inválido: \n",
    "#“Fusca”, “Maverick”, “Toro”, “CG 160 Titan”, “Abacaxi”, “Biz 125”, “Cerato”, “Kawasaki Z 250”. \n",
    "\n",
    "veiculo=\"CG 160 Titan\"\n",
    "\n",
    "if veiculo in (\"Fusca\", \"Maverick\", \"Toro\", \"Cerato\"):\n",
    "    print(\"Carro\")\n",
    "            \n",
    "elif veiculo in (\"CG 160 Titan\", \"Biz 125\", \"Kawasaki z 250\"):\n",
    "    print(\"Moto\")\n",
    "            \n",
    "else:\n",
    "    print(\"Inválido\")"
   ]
  },
  {
   "cell_type": "code",
   "execution_count": 10,
   "id": "148d3f7c",
   "metadata": {},
   "outputs": [
    {
     "name": "stdout",
     "output_type": "stream",
     "text": [
      "Digite o nome do veiculo: Fusca\n",
      "O veículo informado é um Fusca\n"
     ]
    }
   ],
   "source": [
    "veiculo=str(input(\"Digite o nome do veiculo: \"))\n",
    "if veiculo in (\"Fusca\", \"Maverick\", \"Toro\", \"Cerato\"):\n",
    "    print(\"O veículo informado é um\", veiculo)\n",
    "elif veiculo in (\"CG 160 Titan\", \"Biz 125\", \"Kawasaki z 250\"):\n",
    "    print(\"O veículo informado é um\", veiculo)\n",
    "else:\n",
    "    print(\"Inválido\")"
   ]
  }
 ],
 "metadata": {
  "kernelspec": {
   "display_name": "Python 3 (ipykernel)",
   "language": "python",
   "name": "python3"
  },
  "language_info": {
   "codemirror_mode": {
    "name": "ipython",
    "version": 3
   },
   "file_extension": ".py",
   "mimetype": "text/x-python",
   "name": "python",
   "nbconvert_exporter": "python",
   "pygments_lexer": "ipython3",
   "version": "3.9.7"
  }
 },
 "nbformat": 4,
 "nbformat_minor": 5
}
