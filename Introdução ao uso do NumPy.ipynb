{
 "cells": [
  {
   "cell_type": "markdown",
   "id": "9f777745",
   "metadata": {},
   "source": [
    "### Primeiros passos no uso da biblioteca NumPy"
   ]
  },
  {
   "cell_type": "code",
   "execution_count": 2,
   "id": "fb77498a",
   "metadata": {},
   "outputs": [
    {
     "name": "stdout",
     "output_type": "stream",
     "text": [
      "1.20.3\n"
     ]
    }
   ],
   "source": [
    "#Importando o pacote\n",
    "import numpy as np\n",
    "#Versão do pacote\n",
    "print(np.__version__)"
   ]
  },
  {
   "cell_type": "code",
   "execution_count": 14,
   "id": "270875c1",
   "metadata": {},
   "outputs": [
    {
     "data": {
      "text/plain": [
       "numpy.ndarray"
      ]
     },
     "execution_count": 14,
     "metadata": {},
     "output_type": "execute_result"
    }
   ],
   "source": [
    "### Exemplo I - Criando os primeiros arrays no NumPy\n",
    "arr=np.array([1,2,3,4,5])\n",
    "type(arr)"
   ]
  },
  {
   "cell_type": "code",
   "execution_count": 4,
   "id": "61c97358",
   "metadata": {},
   "outputs": [
    {
     "data": {
      "text/plain": [
       "array([[1, 4, 5],\n",
       "       [7, 8, 9]])"
      ]
     },
     "execution_count": 4,
     "metadata": {},
     "output_type": "execute_result"
    }
   ],
   "source": [
    "#Exemplo II - Criando um array bidimensional\n",
    "arr2=np.array([(1,4,5),(7,8,9)])\n",
    "arr2"
   ]
  },
  {
   "cell_type": "code",
   "execution_count": 5,
   "id": "30e8a540",
   "metadata": {},
   "outputs": [
    {
     "name": "stdout",
     "output_type": "stream",
     "text": [
      "[[0. 0. 0.]\n",
      " [0. 0. 0.]\n",
      " [0. 0. 0.]\n",
      " [0. 0. 0.]]\n"
     ]
    }
   ],
   "source": [
    "#Exemplo III - Criando uma matriz cheia de zeros, com dimensão especifica\n",
    "arr = np.zeros((4,3))\n",
    "print(arr)"
   ]
  },
  {
   "cell_type": "code",
   "execution_count": 6,
   "id": "04cbed34",
   "metadata": {},
   "outputs": [
    {
     "name": "stdout",
     "output_type": "stream",
     "text": [
      "[[1. 1. 1. 1. 1. 1. 1.]\n",
      " [1. 1. 1. 1. 1. 1. 1.]\n",
      " [1. 1. 1. 1. 1. 1. 1.]\n",
      " [1. 1. 1. 1. 1. 1. 1.]]\n",
      "(4, 7)\n"
     ]
    }
   ],
   "source": [
    "#Exemplo IV - Criando uma matriz cheia de uns, com dimensão especifica\n",
    "arr=np.ones((4,7))\n",
    "print(arr)\n",
    "print(arr.shape) #Mostra a dimensão da matriz"
   ]
  },
  {
   "cell_type": "code",
   "execution_count": 7,
   "id": "20e517b0",
   "metadata": {},
   "outputs": [
    {
     "name": "stdout",
     "output_type": "stream",
     "text": [
      "[[1. 0. 0. 0. 0. 0. 0. 0.]\n",
      " [0. 1. 0. 0. 0. 0. 0. 0.]\n",
      " [0. 0. 1. 0. 0. 0. 0. 0.]\n",
      " [0. 0. 0. 1. 0. 0. 0. 0.]\n",
      " [0. 0. 0. 0. 1. 0. 0. 0.]\n",
      " [0. 0. 0. 0. 0. 1. 0. 0.]\n",
      " [0. 0. 0. 0. 0. 0. 1. 0.]\n",
      " [0. 0. 0. 0. 0. 0. 0. 1.]]\n"
     ]
    }
   ],
   "source": [
    "#Exemplo V - Criando uma matriz com uns na diagonal principal e zero no resto\n",
    "arr=np.eye(8)\n",
    "print(arr)"
   ]
  },
  {
   "cell_type": "code",
   "execution_count": 8,
   "id": "c611a11d",
   "metadata": {},
   "outputs": [
    {
     "name": "stdout",
     "output_type": "stream",
     "text": [
      "[0.  0.9 1.8 2.7 3.6 4.5 5.4 6.3 7.2 8.1 9.  9.9]\n",
      "[ 1  6 11 16 21 26 31 36 41 46]\n",
      "[ 0.   2.5  5.   7.5 10. ]\n"
     ]
    }
   ],
   "source": [
    "#Gerando arrays com sequencias de dados (estilo range)\n",
    "a=np.arange(0,10,0.9)\n",
    "print(a)\n",
    "b=np.arange(1,50,5)\n",
    "print(b)\n",
    "\n",
    "#Gerando arrays com n dados dentro de um intervalo específico\n",
    "c=np.linspace(0,10,5) # 5 números entre 0 e 10, igualmente espaçados\n",
    "print(c)"
   ]
  },
  {
   "cell_type": "code",
   "execution_count": 16,
   "id": "74965452",
   "metadata": {},
   "outputs": [
    {
     "data": {
      "text/plain": [
       "array([ 0. ,  1.5,  3. ,  4.5,  6. ,  7.5,  9. , 10.5, 12. , 13.5, 15. ,\n",
       "       16.5, 18. , 19.5, 21. , 22.5, 24. , 25.5, 27. , 28.5, 30. , 31.5,\n",
       "       33. , 34.5, 36. , 37.5, 39. , 40.5, 42. , 43.5, 45. , 46.5, 48. ,\n",
       "       49.5])"
      ]
     },
     "execution_count": 16,
     "metadata": {},
     "output_type": "execute_result"
    }
   ],
   "source": [
    "teste=np.arange(0,50,1.5)\n",
    "teste"
   ]
  },
  {
   "cell_type": "code",
   "execution_count": 9,
   "id": "670e870f",
   "metadata": {},
   "outputs": [
    {
     "name": "stdout",
     "output_type": "stream",
     "text": [
      "[0 1 2 2 2 3 4 5 6 7]\n"
     ]
    }
   ],
   "source": [
    "#Ordenando arrays\n",
    "a1=np.array([3,5,2,1,6,7,2,0,4,2])\n",
    "print(np.sort(a1))"
   ]
  },
  {
   "cell_type": "code",
   "execution_count": 10,
   "id": "b061fb78",
   "metadata": {},
   "outputs": [
    {
     "name": "stdout",
     "output_type": "stream",
     "text": [
      "[[  5   9  11]\n",
      " [ -3  -4   7]\n",
      " [ 11  21 -10]]\n",
      "-10\n",
      "21\n",
      "47\n",
      "5.222222222222222\n",
      "8.929075823495307\n"
     ]
    }
   ],
   "source": [
    "#Exemplo VI - Estatísticas a partir de um array(matriz)\n",
    "matriz=np.array([(5,9,11),(-3,-4,7),(11,21,-10)])\n",
    "print(matriz)\n",
    "print(matriz.min())\n",
    "print(matriz.max())\n",
    "print(matriz.sum())\n",
    "print(matriz.mean())\n",
    "print(matriz.std())"
   ]
  },
  {
   "cell_type": "code",
   "execution_count": 17,
   "id": "adb724fd",
   "metadata": {},
   "outputs": [
    {
     "data": {
      "text/plain": [
       "(2, 3)"
      ]
     },
     "execution_count": 17,
     "metadata": {},
     "output_type": "execute_result"
    }
   ],
   "source": [
    "#teste na aula\n",
    "matriz1=np.array([(4,5,11),(90,14,-17)])\n",
    "matriz1.shape"
   ]
  },
  {
   "cell_type": "code",
   "execution_count": 11,
   "id": "f74a4acb",
   "metadata": {},
   "outputs": [
    {
     "name": "stdout",
     "output_type": "stream",
     "text": [
      "[[  5   9  11]\n",
      " [ -3  -4   7]\n",
      " [ 11  21 -10]]\n",
      "[[ 15  27  33]\n",
      " [ -9 -12  21]\n",
      " [ 33  63 -30]]\n",
      "[[ 7 11 13]\n",
      " [-1 -2  9]\n",
      " [13 23 -8]]\n"
     ]
    }
   ],
   "source": [
    "#Operações entre matrizes e um escalar\n",
    "print(matriz)\n",
    "print(3*matriz)\n",
    "print(2+matriz)"
   ]
  },
  {
   "cell_type": "code",
   "execution_count": 18,
   "id": "c155f1e2",
   "metadata": {},
   "outputs": [
    {
     "name": "stdout",
     "output_type": "stream",
     "text": [
      "[48 84 39 54 77 25 16 50 24 27]\n",
      "[4.8 8.4 3.9 5.4 7.7 2.5 1.6 5.  2.4 2.7]\n"
     ]
    }
   ],
   "source": [
    "#Gerando matrizes a partir de números aleatórios\n",
    "#Eh necessario importar um modulo chamado random (do proprio numpy)\n",
    "from numpy import random\n",
    "np.random.seed(1234) #pode ser colocado qualquer valor, devido as amostras aleatorias (semente aleatoria trava a amostra)\n",
    "aleat=np.random.randint(1,100,10)\n",
    "print(aleat)\n",
    "print(aleat/10)"
   ]
  },
  {
   "cell_type": "code",
   "execution_count": 13,
   "id": "0fab8c45",
   "metadata": {},
   "outputs": [
    {
     "name": "stdout",
     "output_type": "stream",
     "text": [
      "[31 44 31 45 27 55]\n",
      "[49 29  6 17 10 48]\n",
      "[ 80  73  37  62  37 103]\n"
     ]
    }
   ],
   "source": [
    "#Operações entre arrays\n",
    "a=np.random.randint(1,60,6)\n",
    "print(a)\n",
    "b=np.random.randint(1,50,6)\n",
    "print(b)\n",
    "print(a+b)"
   ]
  },
  {
   "cell_type": "code",
   "execution_count": 19,
   "id": "ca251de0",
   "metadata": {},
   "outputs": [
    {
     "name": "stdout",
     "output_type": "stream",
     "text": [
      "[[31 44 31 45 27 55]\n",
      " [59 57 49 29  6 17]\n",
      " [10 55 48 51 49 13]]\n",
      "[[38 35 39 59  4 40]\n",
      " [12  1 42 12 17  4]\n",
      " [ 3 20 13  2 12 52]]\n",
      "[[1178 1540 1209 2655  108 2200]\n",
      " [ 708   57 2058  348  102   68]\n",
      " [  30 1100  624  102  588  676]]\n"
     ]
    }
   ],
   "source": [
    "#Operações entre arrays - A falsa mutiplicacao de matrizes\n",
    "a1=np.random.randint(1,60,[3,6])\n",
    "print(a1)\n",
    "a2=np.random.randint(1,60,[3,6])\n",
    "print(a2)\n",
    "print(a1*a2)"
   ]
  },
  {
   "cell_type": "code",
   "execution_count": 20,
   "id": "8d47e98d",
   "metadata": {},
   "outputs": [
    {
     "name": "stdout",
     "output_type": "stream",
     "text": [
      "[[2 4]\n",
      " [8 2]\n",
      " [8 5]]\n",
      "[[1 6 2]\n",
      " [6 5 1]]\n"
     ]
    },
    {
     "data": {
      "text/plain": [
       "array([[26, 32,  8],\n",
       "       [20, 58, 18],\n",
       "       [38, 73, 21]])"
      ]
     },
     "execution_count": 20,
     "metadata": {},
     "output_type": "execute_result"
    }
   ],
   "source": [
    "#A verdadeira multiplicação de matrizes\n",
    "#numero de colunas da primeira matriz tem que ser igual ao numero de linhas da segunda matriz\n",
    "a=np.random.randint(1,10,[3,2])\n",
    "print(a)\n",
    "b=np.random.randint(1,10,[2,3])\n",
    "print(b)\n",
    "#Multiplicacao das matrizes a e b (o resultado sera o nuimero de linhas de a vs o numero de colunas de b)\n",
    "a.dot(b)"
   ]
  },
  {
   "cell_type": "code",
   "execution_count": 21,
   "id": "57a741d6",
   "metadata": {},
   "outputs": [
    {
     "name": "stdout",
     "output_type": "stream",
     "text": [
      "[[1 6 2]\n",
      " [6 5 1]]\n",
      "(2, 3)\n",
      "[[1 6]\n",
      " [6 5]\n",
      " [2 1]]\n"
     ]
    }
   ],
   "source": [
    "#Transposição de arrays\n",
    "print(b)\n",
    "print(b.shape) #Tamanho da matriz\n",
    "print(b.T) #Transposição da matriz"
   ]
  },
  {
   "cell_type": "code",
   "execution_count": 22,
   "id": "d41da5a1",
   "metadata": {},
   "outputs": [
    {
     "name": "stdout",
     "output_type": "stream",
     "text": [
      "[[9 9 7 9]\n",
      " [7 4 2 3]\n",
      " [6 3 6 7]\n",
      " [8 5 4 6]]\n",
      "O Determinante da matriz A é : -92.99999999999994\n",
      "A Inversa da matriz A é : [[-0.12903226  0.31182796  0.09677419 -0.07526882]\n",
      " [ 0.25806452  0.04301075 -0.19354839 -0.1827957 ]\n",
      " [ 0.22580645  0.87096774  0.58064516 -1.4516129 ]\n",
      " [-0.19354839 -1.03225806 -0.35483871  1.38709677]]\n"
     ]
    }
   ],
   "source": [
    "#Determinante da matriz\n",
    "A=np.random.randint(1,10,[4,4])\n",
    "print(A)\n",
    "#Determinante da matriz\n",
    "print('O Determinante da matriz A é :', np.linalg.det(A)) #Muitas funções de álgebra linear estão no módulo linalg do NumPy\n",
    "#Inversa da matriz A\n",
    "print('A Inversa da matriz A é :', np.linalg.inv(A)) "
   ]
  },
  {
   "cell_type": "code",
   "execution_count": 23,
   "id": "df5f1cb2",
   "metadata": {},
   "outputs": [
    {
     "name": "stdout",
     "output_type": "stream",
     "text": [
      "[False False False False]\n",
      "[ True  True  True  True]\n",
      "[False  True  True False]\n",
      "[ True False False  True]\n",
      "False\n",
      "True\n"
     ]
    }
   ],
   "source": [
    "#Comparação entre arrays (elemento a elemento)\n",
    "a=np.array([1,4,7,10])\n",
    "b=np.array([2,1,5,11])\n",
    "print(a==b)\n",
    "print(a!=b)\n",
    "print(a>b)\n",
    "print(a<b)\n",
    "\n",
    "#Comparação entre arrays (array inteiro)\n",
    "print(np.array_equal(a,b))\n",
    "c=np.array([5,3])\n",
    "d=np.array([5,3])\n",
    "print(np.array_equal(c,d))"
   ]
  },
  {
   "cell_type": "code",
   "execution_count": 24,
   "id": "95a100c2",
   "metadata": {},
   "outputs": [
    {
     "name": "stdout",
     "output_type": "stream",
     "text": [
      "22\n",
      "5.5\n",
      "3.3541019662496847\n"
     ]
    }
   ],
   "source": [
    "#Algumas funções matemáticas presentes\n",
    "print(np.sum(a)) #Soma dos elementos do array\n",
    "print(np.mean(a)) #Média dos elementos do array\n",
    "print(np.std(a)) #Desvio padrão dos elementos do array"
   ]
  },
  {
   "cell_type": "code",
   "execution_count": 25,
   "id": "c67e0d25",
   "metadata": {},
   "outputs": [
    {
     "data": {
      "text/plain": [
       "(3, 3)"
      ]
     },
     "execution_count": 25,
     "metadata": {},
     "output_type": "execute_result"
    }
   ],
   "source": [
    "a=np.array([(3,4, 5),(5, 6, 4),(5, 3, 2)])\n",
    "a.shape"
   ]
  },
  {
   "cell_type": "code",
   "execution_count": null,
   "id": "21dcd461",
   "metadata": {},
   "outputs": [],
   "source": []
  }
 ],
 "metadata": {
  "kernelspec": {
   "display_name": "Python 3 (ipykernel)",
   "language": "python",
   "name": "python3"
  },
  "language_info": {
   "codemirror_mode": {
    "name": "ipython",
    "version": 3
   },
   "file_extension": ".py",
   "mimetype": "text/x-python",
   "name": "python",
   "nbconvert_exporter": "python",
   "pygments_lexer": "ipython3",
   "version": "3.9.7"
  }
 },
 "nbformat": 4,
 "nbformat_minor": 5
}
