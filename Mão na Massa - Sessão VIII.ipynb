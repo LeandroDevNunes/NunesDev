{
 "cells": [
  {
   "cell_type": "markdown",
   "id": "113cbebe",
   "metadata": {},
   "source": [
    "#### Realize as seguintes atividades usando um notebook Jupyte"
   ]
  },
  {
   "cell_type": "code",
   "execution_count": 5,
   "id": "f0e45a82",
   "metadata": {},
   "outputs": [],
   "source": [
    "#1º deve importar \n",
    "\n",
    "import math # Funções matemáticas\n",
    "import numpy as np\n",
    "import pandas as pd"
   ]
  },
  {
   "cell_type": "code",
   "execution_count": 12,
   "id": "5da752b9",
   "metadata": {},
   "outputs": [
    {
     "data": {
      "text/plain": [
       "3.0"
      ]
     },
     "execution_count": 12,
     "metadata": {},
     "output_type": "execute_result"
    }
   ],
   "source": [
    "#a) Explore um pouco o módulo “math”. Que funções ou constantes podem ser interessantes?\n",
    "\n",
    "import math\n",
    "math.sqrt(9) # raiz quadrada de um numero"
   ]
  },
  {
   "cell_type": "code",
   "execution_count": 11,
   "id": "22c8a1ff",
   "metadata": {},
   "outputs": [
    {
     "name": "stdout",
     "output_type": "stream",
     "text": [
      "40320\n",
      "50063860\n",
      "36045979200\n"
     ]
    }
   ],
   "source": [
    "#a) Explore um pouco o módulo “math”. Que funções ou constantes podem ser interessantes?\n",
    "\n",
    "print(math.factorial(8)) #n! - Um fatorial de um número é o produto de todos os inteiros positivos menores ou iguais a esse número.\n",
    "print(math.comb(60,6))   #n! / (k! * (n - k)!) - A função comb () do módulo math retorna a combinação dos valores dados, que essencialmente tem a mesma fórmula do coeficiente binomial. Um valor inteiro que representa o número de maneiras de escolher itens k de n itens sem repetição e sem ordem.\n",
    "print(math.perm(60,6))   #n! / (n - k)! - Retorna o número de maneiras de escolher k itens de n itens sem repetição e com ordem. Avalia para n! / (n - k)! quando k <= n e avalia para zero quando k > n."
   ]
  },
  {
   "cell_type": "code",
   "execution_count": 14,
   "id": "72b0b004",
   "metadata": {},
   "outputs": [
    {
     "name": "stdout",
     "output_type": "stream",
     "text": [
      "2.718281828459045\n",
      "6.283185307179586\n"
     ]
    }
   ],
   "source": [
    "print(math.e) #O Math.E() é uma função embutida em JavaScript que é usada para obter o valor de e p , onde p é qualquer número fornecido. \n",
    "#O número e é uma constante matemática com valor aproximado igual a 2,718 \n",
    "\n",
    "print(math.tau) #A constante matemática τ = 6.283185… Tau é uma constante de círculo igual a 2π , a razão entre a circunferência de um círculo e seu raio."
   ]
  },
  {
   "cell_type": "code",
   "execution_count": 15,
   "id": "9bdee78d",
   "metadata": {},
   "outputs": [
    {
     "data": {
      "text/plain": [
       "3.0"
      ]
     },
     "execution_count": 15,
     "metadata": {},
     "output_type": "execute_result"
    }
   ],
   "source": [
    "# podemos importar somente a função que nos interessa\n",
    "\n",
    "from math import sqrt\n",
    "sqrt(9)"
   ]
  },
  {
   "cell_type": "code",
   "execution_count": null,
   "id": "0a9422d5",
   "metadata": {},
   "outputs": [],
   "source": [
    "#Algumas funções interessantes\n",
    "\n",
    "print(math.comb)"
   ]
  },
  {
   "cell_type": "code",
   "execution_count": 16,
   "id": "78536b66",
   "metadata": {},
   "outputs": [
    {
     "data": {
      "text/html": [
       "<div>\n",
       "<style scoped>\n",
       "    .dataframe tbody tr th:only-of-type {\n",
       "        vertical-align: middle;\n",
       "    }\n",
       "\n",
       "    .dataframe tbody tr th {\n",
       "        vertical-align: top;\n",
       "    }\n",
       "\n",
       "    .dataframe thead th {\n",
       "        text-align: right;\n",
       "    }\n",
       "</style>\n",
       "<table border=\"1\" class=\"dataframe\">\n",
       "  <thead>\n",
       "    <tr style=\"text-align: right;\">\n",
       "      <th></th>\n",
       "      <th>angle</th>\n",
       "      <th>sin</th>\n",
       "      <th>cos</th>\n",
       "      <th>tan</th>\n",
       "    </tr>\n",
       "  </thead>\n",
       "  <tbody>\n",
       "    <tr>\n",
       "      <th>0</th>\n",
       "      <td>-3.141593</td>\n",
       "      <td>-1.224647e-16</td>\n",
       "      <td>-1.000000e+00</td>\n",
       "      <td>1.224647e-16</td>\n",
       "    </tr>\n",
       "    <tr>\n",
       "      <th>1</th>\n",
       "      <td>-1.570796</td>\n",
       "      <td>-1.000000e+00</td>\n",
       "      <td>6.123234e-17</td>\n",
       "      <td>-1.633124e+16</td>\n",
       "    </tr>\n",
       "    <tr>\n",
       "      <th>2</th>\n",
       "      <td>0.000000</td>\n",
       "      <td>0.000000e+00</td>\n",
       "      <td>1.000000e+00</td>\n",
       "      <td>0.000000e+00</td>\n",
       "    </tr>\n",
       "    <tr>\n",
       "      <th>3</th>\n",
       "      <td>1.570796</td>\n",
       "      <td>1.000000e+00</td>\n",
       "      <td>6.123234e-17</td>\n",
       "      <td>1.633124e+16</td>\n",
       "    </tr>\n",
       "    <tr>\n",
       "      <th>4</th>\n",
       "      <td>3.141593</td>\n",
       "      <td>1.224647e-16</td>\n",
       "      <td>-1.000000e+00</td>\n",
       "      <td>-1.224647e-16</td>\n",
       "    </tr>\n",
       "  </tbody>\n",
       "</table>\n",
       "</div>"
      ],
      "text/plain": [
       "      angle           sin           cos           tan\n",
       "0 -3.141593 -1.224647e-16 -1.000000e+00  1.224647e-16\n",
       "1 -1.570796 -1.000000e+00  6.123234e-17 -1.633124e+16\n",
       "2  0.000000  0.000000e+00  1.000000e+00  0.000000e+00\n",
       "3  1.570796  1.000000e+00  6.123234e-17  1.633124e+16\n",
       "4  3.141593  1.224647e-16 -1.000000e+00 -1.224647e-16"
      ]
     },
     "execution_count": 16,
     "metadata": {},
     "output_type": "execute_result"
    }
   ],
   "source": [
    "angle = [-math.pi, -math.pi / 2, 0, math.pi / 2, math.pi] \n",
    "\n",
    "sin = [math.sin(a) for a in angle]\n",
    "cos = [math.cos(a) for a in angle]\n",
    "tan = [math.tan(a) for a in angle]\n",
    "\n",
    "pd.DataFrame({'angle': angle, 'sin': sin, 'cos': cos, 'tan': tan})"
   ]
  },
  {
   "cell_type": "code",
   "execution_count": 18,
   "id": "1938c135",
   "metadata": {},
   "outputs": [
    {
     "name": "stdout",
     "output_type": "stream",
     "text": [
      "[[3 4 5]\n",
      " [5 6 4]\n",
      " [5 3 2]]\n",
      "(3, 3)\n",
      "2\n",
      "6\n",
      "37\n",
      "4.111111111111111\n",
      "1.1967032904743342\n"
     ]
    }
   ],
   "source": [
    "#b) Crie um array com a seguinte característica: [[3 4 5] [5 6 4] [5 3 2]]. Calcule a dimensão dessa matriz. \n",
    "\n",
    "import numpy as np\n",
    "A=np.array([(3,4,5),(5,6,4),(5,3,2)])\n",
    "print(A)\n",
    "\n",
    "#Tamanho da matriz\n",
    "print(np.shape (A)) \n",
    "\n",
    "#Extraia estatísticas descritivas dessa matriz (mínimo, média, máximo e desvio padrão)\n",
    "print(A.min())\n",
    "print(A.max())\n",
    "print(A.sum())\n",
    "print(A.mean())\n",
    "print(A.std())"
   ]
  },
  {
   "cell_type": "code",
   "execution_count": 21,
   "id": "cbf59cc5",
   "metadata": {},
   "outputs": [
    {
     "name": "stdout",
     "output_type": "stream",
     "text": [
      "Dimensions:  (3, 3)\n",
      "Determinant:  -35.0\n",
      "Inverse:  [[ 0.         -0.2         0.4       ]\n",
      " [-0.28571429  0.54285714 -0.37142857]\n",
      " [ 0.42857143 -0.31428571  0.05714286]]\n",
      "Minimum:  2\n",
      "Mean:  4.11\n",
      "Maximum:  6\n",
      "Standard deviation:  1.2\n"
     ]
    }
   ],
   "source": [
    "#b) Formato mais detalhado\n",
    "\n",
    "matrix = np.array([[3, 4, 5], [5, 6, 4], [5, 3, 2]])\n",
    "\n",
    "print(\"Dimensions: \", matrix.shape)\n",
    "print(\"Determinant: \", round(np.linalg.det(matrix), 2))\n",
    "print(\"Inverse: \", np.linalg.inv(matrix))\n",
    "print(\"Minimum: \", np.min(matrix))\n",
    "print(\"Mean: \", round(np.mean(matrix), 2))\n",
    "print(\"Maximum: \", np.max(matrix))\n",
    "print(\"Standard deviation: \", round(np.std(matrix), 2))"
   ]
  },
  {
   "cell_type": "code",
   "execution_count": 24,
   "id": "4586e591",
   "metadata": {},
   "outputs": [
    {
     "name": "stdout",
     "output_type": "stream",
     "text": [
      "A dimensions: (3, 5)\n",
      "[[56 89 19 25 17]\n",
      " [54 42 34 28 12]\n",
      " [20 95 76 49 20]]\n",
      "\n",
      "B dimensions: (5, 6)\n",
      "[[39 73 15 94 17 91]\n",
      " [12 95 98  3 81 16]\n",
      " [24 82 88 86 38 57]\n",
      " [84 13 46 91 77 15]\n",
      " [97 14 78 53 43 54]]\n",
      "\n",
      "A . B dimensions: (3, 6)\n",
      "[[ 7457 14664 13710 10341 11539  8896]\n",
      " [ 6942 11252 10142 11310  8284  8592]\n",
      " [ 9800 17634 20112 14220 15556  9487]]\n"
     ]
    }
   ],
   "source": [
    "#c) Gere 2 matrizes com numeros inteiros aleatórios e promova a multiplicação entre elas. Houve algum erro? \n",
    "\n",
    "np.random.seed(2022)\n",
    "\n",
    "d1 = np.random.randint(3, 12)\n",
    "d2 = np.random.randint(4, 13)\n",
    "d3 = np.random.randint(5, 14)\n",
    "\n",
    "#Qual a condição para que seja possível a multiplicação de 2 matrizes? \n",
    "A = np.random.randint(1, 100, (d1, d2))\n",
    "B = np.random.randint(1, 100, (d2, d3))\n",
    "C = A.dot(B)\n",
    "\n",
    "#Qual deve ser o formato da matriz resultante?\n",
    "print(\"A dimensions: {}\\n{}\".format(A.shape, A))\n",
    "print(\"\\nB dimensions: {}\\n{}\".format(B.shape, B))\n",
    "print(\"\\nA . B dimensions: {}\\n{}\".format(C.shape, C))"
   ]
  },
  {
   "cell_type": "code",
   "execution_count": 25,
   "id": "1131888c",
   "metadata": {},
   "outputs": [
    {
     "data": {
      "text/plain": [
       "array([ 0. ,  1.2,  2.4,  3.6,  4.8,  6. ,  7.2,  8.4,  9.6, 10.8])"
      ]
     },
     "execution_count": 25,
     "metadata": {},
     "output_type": "execute_result"
    }
   ],
   "source": [
    "#d) Gere um array que seja uma sequência de números de 0 a 10, com razão de 1.2.\n",
    "\n",
    "np.arange(0, 11, 1.2)"
   ]
  },
  {
   "cell_type": "code",
   "execution_count": 26,
   "id": "9c405dda",
   "metadata": {},
   "outputs": [
    {
     "data": {
      "text/plain": [
       "array([100,  85,  70,  55,  40,  25,  10])"
      ]
     },
     "execution_count": 26,
     "metadata": {},
     "output_type": "execute_result"
    }
   ],
   "source": [
    "#e) Gere um array que seja uma sequência de números de 100 a 10, com razão de -15.\n",
    "\n",
    "np.arange(100, 9, -15)"
   ]
  },
  {
   "cell_type": "code",
   "execution_count": 29,
   "id": "6dec3b46",
   "metadata": {},
   "outputs": [],
   "source": [
    "#Colocando as dezenas em ordem crescente (por linha)\n",
    "megasena_ordem=np.array"
   ]
  },
  {
   "cell_type": "code",
   "execution_count": 31,
   "id": "76aa93a2",
   "metadata": {},
   "outputs": [
    {
     "data": {
      "text/plain": [
       "array([[39, 32, 27,  8, 35, 26],\n",
       "       [46,  2, 43, 42, 37, 28],\n",
       "       [33, 13,  5, 53, 56, 47],\n",
       "       [41, 24, 34, 51, 11, 13],\n",
       "       [26, 54, 24, 59, 25,  1],\n",
       "       [55, 25, 41, 36,  5, 20]])"
      ]
     },
     "execution_count": 31,
     "metadata": {},
     "output_type": "execute_result"
    }
   ],
   "source": [
    "#f) Gere uma matriz de 6x6, sendo cada linha uma sugestão aleatória de dezenas para um jogo da megasena.\n",
    "megasena=np.random.randint(1,61,(6,6))\n",
    "megasena"
   ]
  },
  {
   "cell_type": "code",
   "execution_count": 34,
   "id": "cd975a66",
   "metadata": {},
   "outputs": [
    {
     "name": "stdout",
     "output_type": "stream",
     "text": [
      "Lotery ticket dimensions: (6, 6)\n",
      "[[ 3 17 48 50 53 58]\n",
      " [11 13 24 36 37 39]\n",
      " [13 20 26 39 43 59]\n",
      " [16 17 21 23 33 48]\n",
      " [24 30 34 48 50 56]\n",
      " [17 26 42 46 48 50]]\n"
     ]
    }
   ],
   "source": [
    "rng = np.random.default_rng()\n",
    "lotery = np.asarray([sorted(rng.choice(61, size=6, replace=False)) for i in range(6)])\n",
    "\n",
    "print(\"Lotery ticket dimensions: {}\\n{}\".format(lotery.shape, lotery))"
   ]
  }
 ],
 "metadata": {
  "kernelspec": {
   "display_name": "Python 3 (ipykernel)",
   "language": "python",
   "name": "python3"
  },
  "language_info": {
   "codemirror_mode": {
    "name": "ipython",
    "version": 3
   },
   "file_extension": ".py",
   "mimetype": "text/x-python",
   "name": "python",
   "nbconvert_exporter": "python",
   "pygments_lexer": "ipython3",
   "version": "3.9.7"
  }
 },
 "nbformat": 4,
 "nbformat_minor": 5
}
