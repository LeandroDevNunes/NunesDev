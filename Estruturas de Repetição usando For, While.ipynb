{
 "cells": [
  {
   "cell_type": "code",
   "execution_count": 16,
   "id": "9fedbb34",
   "metadata": {},
   "outputs": [
    {
     "ename": "TypeError",
     "evalue": "'float' object cannot be interpreted as an integer",
     "output_type": "error",
     "traceback": [
      "\u001b[1;31m---------------------------------------------------------------------------\u001b[0m",
      "\u001b[1;31mTypeError\u001b[0m                                 Traceback (most recent call last)",
      "\u001b[1;32m~\\AppData\\Local\\Temp/ipykernel_14944/1619202328.py\u001b[0m in \u001b[0;36m<module>\u001b[1;34m\u001b[0m\n\u001b[1;32m----> 1\u001b[1;33m \u001b[0mrange\u001b[0m\u001b[1;33m(\u001b[0m\u001b[1;36m1.5\u001b[0m\u001b[1;33m,\u001b[0m\u001b[1;36m4\u001b[0m\u001b[1;33m,\u001b[0m\u001b[1;36m5\u001b[0m\u001b[1;33m)\u001b[0m\u001b[1;33m\u001b[0m\u001b[1;33m\u001b[0m\u001b[0m\n\u001b[0m",
      "\u001b[1;31mTypeError\u001b[0m: 'float' object cannot be interpreted as an integer"
     ]
    }
   ],
   "source": [
    "range(1.5,4,5)"
   ]
  },
  {
   "cell_type": "code",
   "execution_count": 1,
   "id": "b17c863c",
   "metadata": {},
   "outputs": [
    {
     "name": "stdout",
     "output_type": "stream",
     "text": [
      "João\n",
      "Paulo\n"
     ]
    }
   ],
   "source": [
    "#Exempplo I - Exibindo os nomes das pessoas que estão em uma lista\n",
    "Nomes=[\"João\", \"Paulo\" ]\n",
    "for n in Nomes:\n",
    "    print(n)"
   ]
  },
  {
   "cell_type": "code",
   "execution_count": 10,
   "id": "29dfe3fe",
   "metadata": {},
   "outputs": [
    {
     "name": "stdout",
     "output_type": "stream",
     "text": [
      "M\n",
      "a\n",
      "r\n",
      "c\n",
      "e\n",
      "l\n",
      "o\n"
     ]
    }
   ],
   "source": [
    "#Exemplo II - Exibindo as letras do meu nome \n",
    "for k in \"Marcelo\":\n",
    "    print(k)"
   ]
  },
  {
   "cell_type": "code",
   "execution_count": 12,
   "id": "27856675",
   "metadata": {},
   "outputs": [
    {
     "name": "stdout",
     "output_type": "stream",
     "text": [
      "Python I: 7\n",
      "Python II: 8.5\n",
      "Estatística I: 7\n",
      "Estatística II: 7\n"
     ]
    }
   ],
   "source": [
    "#Exemplo III - Exibindo as notas das disciplinas presentes em um dicionário\n",
    "notas_curso = {\n",
    "    'Python I': 7, \n",
    "    'Python II': 8.5, \n",
    "    'Estatística I': 7, \n",
    "    'Estatística II': 7\n",
    "}\n",
    "\n",
    "for key, value in notas_curso.items():\n",
    "    print(f\"{key}: {value}\")\n"
   ]
  },
  {
   "cell_type": "code",
   "execution_count": 14,
   "id": "12d8e4a4",
   "metadata": {},
   "outputs": [
    {
     "name": "stdout",
     "output_type": "stream",
     "text": [
      "0\n",
      "1\n",
      "2\n",
      "3\n",
      "4\n"
     ]
    }
   ],
   "source": [
    "#Exemplo IV - Exibindo sequências numéricas\n",
    "for sequencia in range(5):\n",
    "    print(sequencia)"
   ]
  },
  {
   "cell_type": "code",
   "execution_count": 13,
   "id": "8e47249c",
   "metadata": {},
   "outputs": [
    {
     "name": "stdout",
     "output_type": "stream",
     "text": [
      "5\n",
      "6\n",
      "7\n"
     ]
    }
   ],
   "source": [
    "#Exemplo V - Exibindo sequências numéricas\n",
    "for sequencia in range(5,8):\n",
    "    print(sequencia)"
   ]
  },
  {
   "cell_type": "code",
   "execution_count": 18,
   "id": "9931158d",
   "metadata": {},
   "outputs": [
    {
     "name": "stdout",
     "output_type": "stream",
     "text": [
      "3\n",
      "2\n",
      "1\n"
     ]
    }
   ],
   "source": [
    "#Exemplo VI - Exibindo sequências numéricas\n",
    "for sequencia in range(3,0,-1):\n",
    "    print(sequencia)"
   ]
  },
  {
   "cell_type": "code",
   "execution_count": 24,
   "id": "714ed144",
   "metadata": {},
   "outputs": [
    {
     "name": "stdout",
     "output_type": "stream",
     "text": [
      "O número 0 é par\n",
      "O número 2 é par\n",
      "O número 4 é par\n",
      "O número 6 é par\n",
      "O número 8 é par\n",
      "O número 10 é par\n"
     ]
    }
   ],
   "source": [
    "#Exemplo VII - Exibindo somente números ímpares de uma sequência\n",
    "for numero in range(11):\n",
    "    if numero % 2== 0:\n",
    "        print(\"O número\", numero, \"é par\")"
   ]
  },
  {
   "cell_type": "code",
   "execution_count": 28,
   "id": "f3144294",
   "metadata": {},
   "outputs": [
    {
     "name": "stdout",
     "output_type": "stream",
     "text": [
      "Número é 0\n",
      "Número é 1\n",
      "Número é 2\n",
      "Número é 3\n",
      "Número é 4\n",
      "Fim\n"
     ]
    }
   ],
   "source": [
    "#Exemplo VIII - Usando a instrução break dentro do for\n",
    "num = 0\n",
    "for num in range(10):\n",
    "    if num == 5:\n",
    "        break    # Para aqui\n",
    "    print('Número é ' + str(num))\n",
    "print('Fim')"
   ]
  },
  {
   "cell_type": "code",
   "execution_count": 23,
   "id": "bf6cffc0",
   "metadata": {},
   "outputs": [
    {
     "name": "stdout",
     "output_type": "stream",
     "text": [
      "Número é 0\n",
      "Número é 1\n",
      "Número é 2\n",
      "Número é 3\n",
      "Número é 4\n",
      "Número é 6\n",
      "Número é 7\n",
      "Número é 8\n",
      "Número é 9\n",
      "Fora do loop\n"
     ]
    }
   ],
   "source": [
    "#Exemplo IX - Usando a instrução continue dentro do for\n",
    "num = 0\n",
    "for num in range(10):\n",
    "    if num == 5:\n",
    "        continue    # continua aqui\n",
    "    print('Número é ' + str(num))\n",
    "print('Fora do loop')"
   ]
  },
  {
   "cell_type": "code",
   "execution_count": 35,
   "id": "89e4ebf7",
   "metadata": {},
   "outputs": [
    {
     "name": "stdout",
     "output_type": "stream",
     "text": [
      "1\n",
      "2\n",
      "3\n",
      "4\n"
     ]
    }
   ],
   "source": [
    "#Exemplo X - Uso do while \n",
    "i = 1\n",
    "while (i < 5):\n",
    "    print(i)\n",
    "    i += 1"
   ]
  },
  {
   "cell_type": "code",
   "execution_count": 38,
   "id": "9cb931a3",
   "metadata": {},
   "outputs": [
    {
     "name": "stdout",
     "output_type": "stream",
     "text": [
      "O dia da semana que corresponde a posição 1 da lista dias_semana é: Tuesday\n"
     ]
    }
   ],
   "source": [
    "#Exemplo XI - Uso do while \n",
    "day_week = ['Monday', 'Tuesday', 'Wednesday']\n",
    "i = 0\n",
    "while day_week:\n",
    "    if i == 1:\n",
    "        print(\"O dia da semana que corresponde a posição\", i, \"da lista dias_semana é:\", day_week[i])\n",
    "        break\n",
    "    i += 1"
   ]
  },
  {
   "cell_type": "code",
   "execution_count": null,
   "id": "55980216",
   "metadata": {},
   "outputs": [],
   "source": [
    "#Exemplo XII - Uso do while\n",
    "numero=1\n",
    "max = int(input(\"Digite um inteiro maior que 1: \") )\n",
    "\n",
    "while numero <= max:\n",
    "    print(numero)\n",
    "    numero += 1"
   ]
  },
  {
   "cell_type": "code",
   "execution_count": 2,
   "id": "1b92539f",
   "metadata": {},
   "outputs": [
    {
     "name": "stdout",
     "output_type": "stream",
     "text": [
      "Digite alguma coisa:SAIR\n",
      "SAIR\n",
      "Digite alguma coisa:IIII\n",
      "IIII\n",
      "Digite alguma coisa:sair\n",
      "sair\n",
      "Saiu do loop.\n"
     ]
    }
   ],
   "source": [
    "#Exemplo XIII - Uso do While\n",
    "sair = False\n",
    "while not sair:\n",
    "    comando = input('Digite alguma coisa:')\n",
    "    print(comando)\n",
    "    if comando == 'sair':\n",
    "        sair = True\n",
    "print('Saiu do loop.')"
   ]
  },
  {
   "cell_type": "code",
   "execution_count": null,
   "id": "5d210863",
   "metadata": {},
   "outputs": [],
   "source": []
  },
  {
   "cell_type": "code",
   "execution_count": null,
   "id": "b98f30d8",
   "metadata": {},
   "outputs": [],
   "source": []
  }
 ],
 "metadata": {
  "kernelspec": {
   "display_name": "Python 3 (ipykernel)",
   "language": "python",
   "name": "python3"
  },
  "language_info": {
   "codemirror_mode": {
    "name": "ipython",
    "version": 3
   },
   "file_extension": ".py",
   "mimetype": "text/x-python",
   "name": "python",
   "nbconvert_exporter": "python",
   "pygments_lexer": "ipython3",
   "version": "3.9.7"
  }
 },
 "nbformat": 4,
 "nbformat_minor": 5
}
