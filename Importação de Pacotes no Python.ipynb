{
 "cells": [
  {
   "cell_type": "markdown",
   "id": "afacff42",
   "metadata": {},
   "source": [
    "### Exemplo I - Importação de uma função para calcular a raiz quadrada de um número"
   ]
  },
  {
   "cell_type": "code",
   "execution_count": 1,
   "id": "8a269f03",
   "metadata": {},
   "outputs": [
    {
     "ename": "NameError",
     "evalue": "name 'sqrt' is not defined",
     "output_type": "error",
     "traceback": [
      "\u001b[1;31m---------------------------------------------------------------------------\u001b[0m",
      "\u001b[1;31mNameError\u001b[0m                                 Traceback (most recent call last)",
      "\u001b[1;32m~\\AppData\\Local\\Temp/ipykernel_11304/565263693.py\u001b[0m in \u001b[0;36m<module>\u001b[1;34m\u001b[0m\n\u001b[0;32m      1\u001b[0m \u001b[1;31m#Vamos tentar tirar a raiz quadrada de um número?\u001b[0m\u001b[1;33m\u001b[0m\u001b[1;33m\u001b[0m\u001b[0m\n\u001b[1;32m----> 2\u001b[1;33m \u001b[0msqrt\u001b[0m\u001b[1;33m(\u001b[0m\u001b[1;36m10\u001b[0m\u001b[1;33m)\u001b[0m\u001b[1;33m\u001b[0m\u001b[1;33m\u001b[0m\u001b[0m\n\u001b[0m",
      "\u001b[1;31mNameError\u001b[0m: name 'sqrt' is not defined"
     ]
    }
   ],
   "source": [
    "#Vamos tentar tirar a raiz quadrada de um número?\n",
    "sqrt(10)"
   ]
  },
  {
   "cell_type": "code",
   "execution_count": 2,
   "id": "0d74b47f",
   "metadata": {},
   "outputs": [
    {
     "data": {
      "text/plain": [
       "3.1622776601683795"
      ]
     },
     "execution_count": 2,
     "metadata": {},
     "output_type": "execute_result"
    }
   ],
   "source": [
    "#Vamos tentar importar essa função a partir de algum pacote?\n",
    "import math \n",
    "math.sqrt(10)"
   ]
  },
  {
   "cell_type": "code",
   "execution_count": 3,
   "id": "d24b95d4",
   "metadata": {},
   "outputs": [
    {
     "data": {
      "text/plain": [
       "3.1622776601683795"
      ]
     },
     "execution_count": 3,
     "metadata": {},
     "output_type": "execute_result"
    }
   ],
   "source": [
    "#Podemos importar somente a função que nos interessa\n",
    "from math import sqrt\n",
    "sqrt(10)"
   ]
  },
  {
   "cell_type": "code",
   "execution_count": 18,
   "id": "40aac576",
   "metadata": {},
   "outputs": [
    {
     "ename": "NameError",
     "evalue": "name 'Series' is not defined",
     "output_type": "error",
     "traceback": [
      "\u001b[1;31m---------------------------------------------------------------------------\u001b[0m",
      "\u001b[1;31mNameError\u001b[0m                                 Traceback (most recent call last)",
      "\u001b[1;32m~\\AppData\\Local\\Temp/ipykernel_11304/1320387472.py\u001b[0m in \u001b[0;36m<module>\u001b[1;34m\u001b[0m\n\u001b[0;32m      1\u001b[0m \u001b[1;32mimport\u001b[0m \u001b[0mnumpy\u001b[0m \u001b[1;32mas\u001b[0m \u001b[0mnp\u001b[0m\u001b[1;33m\u001b[0m\u001b[1;33m\u001b[0m\u001b[0m\n\u001b[1;32m----> 2\u001b[1;33m \u001b[0ms\u001b[0m \u001b[1;33m=\u001b[0m \u001b[0mSeries\u001b[0m\u001b[1;33m(\u001b[0m\u001b[1;33m[\u001b[0m\u001b[1;36m1\u001b[0m\u001b[1;33m,\u001b[0m \u001b[1;36m3\u001b[0m\u001b[1;33m,\u001b[0m \u001b[1;36m5\u001b[0m\u001b[1;33m,\u001b[0m \u001b[0mnp\u001b[0m\u001b[1;33m.\u001b[0m\u001b[0mnan\u001b[0m\u001b[1;33m,\u001b[0m \u001b[1;36m6\u001b[0m\u001b[1;33m,\u001b[0m \u001b[1;36m8\u001b[0m\u001b[1;33m]\u001b[0m\u001b[1;33m)\u001b[0m\u001b[1;33m\u001b[0m\u001b[1;33m\u001b[0m\u001b[0m\n\u001b[0m\u001b[0;32m      3\u001b[0m \u001b[0ms\u001b[0m\u001b[1;33m\u001b[0m\u001b[1;33m\u001b[0m\u001b[0m\n",
      "\u001b[1;31mNameError\u001b[0m: name 'Series' is not defined"
     ]
    }
   ],
   "source": [
    "s = Series([1, 3, 5, np.nan, 6, 8])\n",
    "s"
   ]
  },
  {
   "cell_type": "markdown",
   "id": "ab514003",
   "metadata": {},
   "source": [
    "### Exemplo II - Criação de uma série numérica usando uma função do pacote Pandas e outra do Numpy"
   ]
  },
  {
   "cell_type": "code",
   "execution_count": 10,
   "id": "9c079ccb",
   "metadata": {},
   "outputs": [
    {
     "data": {
      "text/plain": [
       "0    1\n",
       "1    3\n",
       "2    5\n",
       "3    5\n",
       "4    6\n",
       "5    8\n",
       "dtype: int64"
      ]
     },
     "execution_count": 10,
     "metadata": {},
     "output_type": "execute_result"
    }
   ],
   "source": [
    "import pandas as pd\n",
    "serie=pd.Series([1, 3, 5, 5, 6, 8])\n",
    "serie"
   ]
  },
  {
   "cell_type": "code",
   "execution_count": 12,
   "id": "56a4d2af",
   "metadata": {},
   "outputs": [
    {
     "data": {
      "text/plain": [
       "0     1.0\n",
       "1     3.0\n",
       "2     NaN\n",
       "3     8.0\n",
       "4     9.0\n",
       "5    11.0\n",
       "dtype: float64"
      ]
     },
     "execution_count": 12,
     "metadata": {},
     "output_type": "execute_result"
    }
   ],
   "source": [
    "import numpy as np\n",
    "serie=pd.Series([1,3,np.nan, 8,9,11])\n",
    "serie"
   ]
  },
  {
   "cell_type": "code",
   "execution_count": 13,
   "id": "3ad88818",
   "metadata": {},
   "outputs": [
    {
     "data": {
      "text/html": [
       "<div>\n",
       "<style scoped>\n",
       "    .dataframe tbody tr th:only-of-type {\n",
       "        vertical-align: middle;\n",
       "    }\n",
       "\n",
       "    .dataframe tbody tr th {\n",
       "        vertical-align: top;\n",
       "    }\n",
       "\n",
       "    .dataframe thead th {\n",
       "        text-align: right;\n",
       "    }\n",
       "</style>\n",
       "<table border=\"1\" class=\"dataframe\">\n",
       "  <thead>\n",
       "    <tr style=\"text-align: right;\">\n",
       "      <th></th>\n",
       "      <th>A</th>\n",
       "      <th>B</th>\n",
       "      <th>C</th>\n",
       "      <th>D</th>\n",
       "    </tr>\n",
       "  </thead>\n",
       "  <tbody>\n",
       "    <tr>\n",
       "      <th>2021-01-31</th>\n",
       "      <td>-2.068202</td>\n",
       "      <td>-0.698984</td>\n",
       "      <td>0.915488</td>\n",
       "      <td>0.621188</td>\n",
       "    </tr>\n",
       "    <tr>\n",
       "      <th>2021-02-28</th>\n",
       "      <td>0.533756</td>\n",
       "      <td>-0.682058</td>\n",
       "      <td>-1.380682</td>\n",
       "      <td>0.337089</td>\n",
       "    </tr>\n",
       "    <tr>\n",
       "      <th>2021-03-31</th>\n",
       "      <td>-0.093909</td>\n",
       "      <td>-0.824805</td>\n",
       "      <td>0.237279</td>\n",
       "      <td>-0.109253</td>\n",
       "    </tr>\n",
       "    <tr>\n",
       "      <th>2021-04-30</th>\n",
       "      <td>-0.750203</td>\n",
       "      <td>-0.457059</td>\n",
       "      <td>1.541882</td>\n",
       "      <td>-1.708551</td>\n",
       "    </tr>\n",
       "    <tr>\n",
       "      <th>2021-05-31</th>\n",
       "      <td>0.316591</td>\n",
       "      <td>-0.714415</td>\n",
       "      <td>0.496996</td>\n",
       "      <td>-1.966070</td>\n",
       "    </tr>\n",
       "    <tr>\n",
       "      <th>2021-06-30</th>\n",
       "      <td>-1.040465</td>\n",
       "      <td>-0.266184</td>\n",
       "      <td>1.782057</td>\n",
       "      <td>-0.027505</td>\n",
       "    </tr>\n",
       "  </tbody>\n",
       "</table>\n",
       "</div>"
      ],
      "text/plain": [
       "                   A         B         C         D\n",
       "2021-01-31 -2.068202 -0.698984  0.915488  0.621188\n",
       "2021-02-28  0.533756 -0.682058 -1.380682  0.337089\n",
       "2021-03-31 -0.093909 -0.824805  0.237279 -0.109253\n",
       "2021-04-30 -0.750203 -0.457059  1.541882 -1.708551\n",
       "2021-05-31  0.316591 -0.714415  0.496996 -1.966070\n",
       "2021-06-30 -1.040465 -0.266184  1.782057 -0.027505"
      ]
     },
     "execution_count": 13,
     "metadata": {},
     "output_type": "execute_result"
    }
   ],
   "source": [
    "### Exemplo III - Usando mais funções do Pandas e do Numpy para geração de um dataframe (tabela) com números aleatórios\n",
    "dates = pd.date_range(\"20210101\", periods=6, freq=\"M\")\n",
    "dates\n",
    "\n",
    "df = pd.DataFrame(np.random.randn(6, 4), index=dates, columns=list(\"ABCD\"))\n",
    "df"
   ]
  },
  {
   "cell_type": "code",
   "execution_count": null,
   "id": "e100ed8b",
   "metadata": {},
   "outputs": [],
   "source": []
  }
 ],
 "metadata": {
  "kernelspec": {
   "display_name": "Python 3 (ipykernel)",
   "language": "python",
   "name": "python3"
  },
  "language_info": {
   "codemirror_mode": {
    "name": "ipython",
    "version": 3
   },
   "file_extension": ".py",
   "mimetype": "text/x-python",
   "name": "python",
   "nbconvert_exporter": "python",
   "pygments_lexer": "ipython3",
   "version": "3.9.7"
  }
 },
 "nbformat": 4,
 "nbformat_minor": 5
}
