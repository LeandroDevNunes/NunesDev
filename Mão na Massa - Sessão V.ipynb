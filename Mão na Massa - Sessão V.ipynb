{
 "cells": [
  {
   "cell_type": "markdown",
   "id": "72bf9988",
   "metadata": {},
   "source": [
    "### Crie uma lista com os números 1,3,5,7,9,11,13,15,17,19 e 21. \n",
    "\n",
    "a.1) Qual o tamanho da lista? \n",
    "\n",
    "a.2) Qual o máximo valor da lista? \n",
    "\n",
    "a.3) Qual a média dos elementos dessa lista? \n",
    "\n",
    "a.4) Ordene a lista em ordem decrescente. \n",
    "\n",
    "a.5) Adicione o elemento 10 a essa lista."
   ]
  },
  {
   "cell_type": "code",
   "execution_count": 34,
   "id": "467b0421",
   "metadata": {},
   "outputs": [
    {
     "name": "stdout",
     "output_type": "stream",
     "text": [
      "[1, 3, 5, 7, 9, 11, 13, 15, 17, 19, 21]\n"
     ]
    },
    {
     "data": {
      "text/plain": [
       "11"
      ]
     },
     "execution_count": 34,
     "metadata": {},
     "output_type": "execute_result"
    }
   ],
   "source": [
    "#a.1) Qual o tamanho da lista?\n",
    "lista1=[1,3,5,7,9,11,13,15,17,19,21]\n",
    "print(lista1)\n",
    "len(lista1)"
   ]
  },
  {
   "cell_type": "code",
   "execution_count": 25,
   "id": "68e1411a",
   "metadata": {},
   "outputs": [
    {
     "data": {
      "text/plain": [
       "11"
      ]
     },
     "execution_count": 25,
     "metadata": {},
     "output_type": "execute_result"
    }
   ],
   "source": [
    "#a.2) Qual o máximo valor da lista?\n",
    "max(lista1)"
   ]
  },
  {
   "cell_type": "code",
   "execution_count": 28,
   "id": "baa7f635",
   "metadata": {},
   "outputs": [
    {
     "data": {
      "text/plain": [
       "11.0"
      ]
     },
     "execution_count": 28,
     "metadata": {},
     "output_type": "execute_result"
    }
   ],
   "source": [
    "#a.3) Qual a média dos elementos dessa lista?\n",
    "sum(lista1)/len(lista1)"
   ]
  },
  {
   "cell_type": "code",
   "execution_count": 32,
   "id": "ad172d20",
   "metadata": {},
   "outputs": [
    {
     "name": "stdout",
     "output_type": "stream",
     "text": [
      "[1, 3, 5, 7, 9, 11, 13, 15, 17, 19, 21]\n"
     ]
    }
   ],
   "source": [
    "#a.4) Ordene a lista em ordem decrescente.\n",
    "lista1_ordenados=sorted(lista1)\n",
    "print(lista1)"
   ]
  },
  {
   "cell_type": "code",
   "execution_count": 59,
   "id": "4c30c199",
   "metadata": {},
   "outputs": [
    {
     "name": "stdout",
     "output_type": "stream",
     "text": [
      "[1, 3, 5, 7, 9, 11, 13, 15, 17, 19, 21, 10, 10]\n"
     ]
    }
   ],
   "source": [
    "#a.5) Adicione o elemento 10 a essa lista.\n",
    "lista1.append(10)\n",
    "print(lista1)"
   ]
  },
  {
   "cell_type": "markdown",
   "id": "6af0d091",
   "metadata": {},
   "source": [
    "### Considere os conjuntos A= {100,200,300,500,600,800), B={150,200,250,350,400,500) e C={300,200}. \n",
    "\n",
    "b.1) Qual a soma dos valores do conjunto D que é a intersecção de A, B e C? \n",
    "\n",
    "b.2) Qual a média da união dos elementos desses 3 conjuntos?"
   ]
  },
  {
   "cell_type": "code",
   "execution_count": 5,
   "id": "c8d44808",
   "metadata": {},
   "outputs": [
    {
     "name": "stdout",
     "output_type": "stream",
     "text": [
      "{800, 100, 200, 300, 400, 500, 150, 600, 250, 350}\n",
      "A média da união dos elementos dos 3 conjuntos é:  250.0\n"
     ]
    }
   ],
   "source": [
    "#b.1) Qual a soma dos valores do conjunto D que é a intersecção de A, B e C?\n",
    "A = {100,200,300,500,600,800}\n",
    "B = {150,200,250,350,400,500}\n",
    "C = {300,200}\n",
    "D = A.union(B).union(C)\n",
    "print(D)\n",
    "Media=sum(A)/len(D)\n",
    "print(\"A média da união dos elementos dos 3 conjuntos é: \", Media)"
   ]
  },
  {
   "cell_type": "code",
   "execution_count": 8,
   "id": "72fdb7b4",
   "metadata": {},
   "outputs": [
    {
     "name": "stdout",
     "output_type": "stream",
     "text": [
      "[100, 150, 200, 250, 300, 350, 400, 500, 600, 800]\n"
     ]
    }
   ],
   "source": [
    "#Ordenar o conjunto D em ordem crescente\n",
    "print(sorted((800, 100, 200, 300, 400, 500, 150, 600, 250, 350)))"
   ]
  },
  {
   "cell_type": "markdown",
   "id": "b50a8d92",
   "metadata": {},
   "source": [
    "### Crie um dicionário com chaves & valores associados à população dos estados do Sul do Brasil. \n",
    "#### Qual a média dos valores desse dicionário?"
   ]
  },
  {
   "cell_type": "code",
   "execution_count": 9,
   "id": "f6784bc2",
   "metadata": {},
   "outputs": [
    {
     "name": "stdout",
     "output_type": "stream",
     "text": [
      "A população do estado do PR em 2014 era de: 11,08 milhoes de habitantes\n",
      "A população do estado do SC em 2019 era de: 7,165 milhoes de habitantes\n",
      "A população do estado do RS em 2016 era de: 11,29 milhoes de habitantes\n"
     ]
    }
   ],
   "source": [
    "print(\"A população do estado do PR em 2014 era de: 11,08 milhoes de habitantes\")\n",
    "print(\"A população do estado do SC em 2019 era de: 7,165 milhoes de habitantes\")\n",
    "print(\"A população do estado do RS em 2016 era de: 11,29 milhoes de habitantes\")"
   ]
  },
  {
   "cell_type": "code",
   "execution_count": 1,
   "id": "8f0da6e2",
   "metadata": {},
   "outputs": [
    {
     "ename": "SyntaxError",
     "evalue": "invalid syntax (Temp/ipykernel_26080/3319428670.py, line 5)",
     "output_type": "error",
     "traceback": [
      "\u001b[1;36m  File \u001b[1;32m\"C:\\Users\\oi122057\\AppData\\Local\\Temp/ipykernel_26080/3319428670.py\"\u001b[1;36m, line \u001b[1;32m5\u001b[0m\n\u001b[1;33m    dicUF=(\"PR\":11.08, \"SC\":7.165, \"RS\":11.29)\u001b[0m\n\u001b[1;37m               ^\u001b[0m\n\u001b[1;31mSyntaxError\u001b[0m\u001b[1;31m:\u001b[0m invalid syntax\n"
     ]
    }
   ],
   "source": [
    "#Criando um dicinário com chave e valores associados à população (em milhões de habitantes) dos estados do sul do Brasil.\n",
    "#Sintaxe fundamental de um diciário é: ('chave' : 'valor')\n",
    "\n",
    "\n",
    "dicUF=(\"PR\":11.08, \"SC\":7.165, \"RS\":11.29)\n",
    "type(dicUF)\n"
   ]
  }
 ],
 "metadata": {
  "kernelspec": {
   "display_name": "Python 3 (ipykernel)",
   "language": "python",
   "name": "python3"
  },
  "language_info": {
   "codemirror_mode": {
    "name": "ipython",
    "version": 3
   },
   "file_extension": ".py",
   "mimetype": "text/x-python",
   "name": "python",
   "nbconvert_exporter": "python",
   "pygments_lexer": "ipython3",
   "version": "3.9.7"
  }
 },
 "nbformat": 4,
 "nbformat_minor": 5
}
