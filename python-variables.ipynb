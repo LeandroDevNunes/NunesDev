{
 "cells": [
  {
   "cell_type": "code",
   "execution_count": 4,
   "id": "e746779e",
   "metadata": {},
   "outputs": [
    {
     "name": "stdout",
     "output_type": "stream",
     "text": [
      "Leandro Nunes\n"
     ]
    }
   ],
   "source": [
    "nome, sobrenome = 'Leandro','Nunes'\n",
    "print (nome,sobrenome)"
   ]
  },
  {
   "cell_type": "code",
   "execution_count": 43,
   "id": "03efe77c",
   "metadata": {
    "cell_id": "77b784ce20644940859dd3e53cdcbfd3",
    "deepnote_cell_height": 81,
    "deepnote_cell_type": "code",
    "deepnote_to_be_reexecuted": false,
    "execution_millis": 2,
    "execution_start": 1648928045465,
    "source_hash": "b3fa9a48",
    "tags": []
   },
   "outputs": [],
   "source": [
    "from datetime import date"
   ]
  },
  {
   "cell_type": "code",
   "execution_count": 1,
   "id": "1ed3cc8f",
   "metadata": {
    "cell_id": "8b73c506-0a82-4665-8ba3-a448e2adf5c6",
    "deepnote_cell_height": 130.1875,
    "deepnote_cell_type": "code",
    "deepnote_to_be_reexecuted": false,
    "execution_millis": 0,
    "execution_start": 1648925548094,
    "source_hash": "b89708d"
   },
   "outputs": [
    {
     "name": "stdout",
     "output_type": "stream",
     "text": [
      "3\n"
     ]
    }
   ],
   "source": [
    "a=3\n",
    "print(a)"
   ]
  },
  {
   "cell_type": "code",
   "execution_count": 3,
   "id": "f58cb808",
   "metadata": {
    "cell_id": "00001-eff3d9f9-665e-4aa2-8484-601c8a766cf7",
    "deepnote_cell_height": 148.1875,
    "deepnote_cell_type": "code",
    "deepnote_to_be_reexecuted": false,
    "execution_millis": 1,
    "execution_start": 1648925649542,
    "source_hash": "bb021a3e"
   },
   "outputs": [
    {
     "name": "stdout",
     "output_type": "stream",
     "text": [
      "3\n"
     ]
    }
   ],
   "source": [
    "# extraclass PEP8 recommendations\n",
    "a = 3\n",
    "print(a)"
   ]
  },
  {
   "cell_type": "code",
   "execution_count": 35,
   "id": "8180b24d",
   "metadata": {
    "cell_id": "00002-61b45b6f-0e7c-4d7b-905d-6c8b0a84f15f",
    "deepnote_cell_height": 186.375,
    "deepnote_cell_type": "code"
   },
   "outputs": [
    {
     "name": "stdout",
     "output_type": "stream",
     "text": [
      "3\n",
      "6\n"
     ]
    }
   ],
   "source": [
    "a=3\n",
    "b=6\n",
    "print(a)\n",
    "print(b)"
   ]
  },
  {
   "cell_type": "code",
   "execution_count": 4,
   "id": "1dcbf2bc",
   "metadata": {
    "cell_id": "00003-71a599e5-3eec-4f06-92e0-d15ac3ed0f3b",
    "deepnote_cell_height": 222.375,
    "deepnote_cell_type": "code",
    "deepnote_to_be_reexecuted": false,
    "execution_millis": 0,
    "execution_start": 1648925888062,
    "source_hash": "630ebd21"
   },
   "outputs": [
    {
     "name": "stdout",
     "output_type": "stream",
     "text": [
      "3\n",
      "6\n"
     ]
    }
   ],
   "source": [
    "# extraclass PEP8 recommendations\n",
    "a = 3\n",
    "b = 6\n",
    "\n",
    "print(a)\n",
    "print(b)"
   ]
  },
  {
   "cell_type": "code",
   "execution_count": 5,
   "id": "25bf4fed",
   "metadata": {
    "cell_id": "00004-85081c28-a75a-4415-829d-0b8100ecc32f",
    "deepnote_cell_height": 224.5625,
    "deepnote_cell_type": "code",
    "deepnote_to_be_reexecuted": false,
    "execution_millis": 0,
    "execution_start": 1648925892974,
    "source_hash": "2b272f4a"
   },
   "outputs": [
    {
     "name": "stdout",
     "output_type": "stream",
     "text": [
      "5\n",
      "8\n",
      "40\n"
     ]
    }
   ],
   "source": [
    "c,d=5,8\n",
    "e=c*d\n",
    "print(c)\n",
    "print(d)\n",
    "print(e)"
   ]
  },
  {
   "cell_type": "code",
   "execution_count": 9,
   "id": "c4585dd8",
   "metadata": {
    "cell_id": "00005-4adc61f1-4b6a-40cc-91a8-9ddb0ef48852",
    "deepnote_cell_height": 260.5625,
    "deepnote_cell_type": "code",
    "deepnote_to_be_reexecuted": false,
    "execution_millis": 2,
    "execution_start": 1648925978908,
    "source_hash": "857e323f"
   },
   "outputs": [
    {
     "name": "stdout",
     "output_type": "stream",
     "text": [
      "5\n",
      "8\n",
      "40\n"
     ]
    }
   ],
   "source": [
    "# extraclass PEP8 recommendations\n",
    "c, d = 5, 8\n",
    "e = c * d\n",
    "\n",
    "print(c)\n",
    "print(d)\n",
    "print(e)"
   ]
  },
  {
   "cell_type": "code",
   "execution_count": 10,
   "id": "225f6c4b",
   "metadata": {
    "cell_id": "00006-57baf9e9-7918-47ca-948f-d5389269f109",
    "deepnote_cell_height": 118.1875,
    "deepnote_cell_type": "code",
    "deepnote_output_heights": [
     21.1875
    ],
    "deepnote_to_be_reexecuted": false,
    "execution_millis": 15,
    "execution_start": 1648925998570,
    "source_hash": "505bb730"
   },
   "outputs": [
    {
     "data": {
      "text/plain": [
       "(int, int, int)"
      ]
     },
     "execution_count": 10,
     "metadata": {},
     "output_type": "execute_result"
    }
   ],
   "source": [
    "type(c), type(d),type(e)"
   ]
  },
  {
   "cell_type": "code",
   "execution_count": 34,
   "id": "da00e5ea",
   "metadata": {
    "cell_id": "00007-64b313c5-492f-4aa7-a38a-cadf25112d4a",
    "deepnote_cell_height": 206.5625,
    "deepnote_cell_type": "code",
    "deepnote_output_heights": [
     21.1875
    ],
    "deepnote_to_be_reexecuted": false,
    "execution_millis": 2,
    "execution_start": 1648927132670,
    "source_hash": "1230b240"
   },
   "outputs": [
    {
     "name": "stdout",
     "output_type": "stream",
     "text": [
      "<class 'int'>\n",
      "<class 'int'>\n",
      "<class 'int'>\n"
     ]
    }
   ],
   "source": [
    "# extraclass PEP8 recommendations\n",
    "print(type(c))\n",
    "print(type(d))\n",
    "print(type(e))"
   ]
  },
  {
   "cell_type": "code",
   "execution_count": 17,
   "id": "41b77964",
   "metadata": {
    "cell_id": "00008-22919403-6a1f-4393-8bf3-a2c1bf69c35b",
    "deepnote_cell_height": 200.375,
    "deepnote_cell_type": "code",
    "deepnote_output_heights": [
     null,
     21.1875
    ],
    "deepnote_to_be_reexecuted": false,
    "execution_millis": 7,
    "execution_start": 1648926573350,
    "source_hash": "a487ee07"
   },
   "outputs": [
    {
     "name": "stdout",
     "output_type": "stream",
     "text": [
      "João\n"
     ]
    },
    {
     "data": {
      "text/plain": [
       "str"
      ]
     },
     "execution_count": 17,
     "metadata": {},
     "output_type": "execute_result"
    }
   ],
   "source": [
    "nome=\"João\"\n",
    "print(nome)\n",
    "type(nome)"
   ]
  },
  {
   "cell_type": "code",
   "execution_count": 33,
   "id": "dc0a25e0",
   "metadata": {
    "cell_id": "00009-864db314-f6ba-42bb-b240-615a51e5727a",
    "deepnote_cell_height": 236.375,
    "deepnote_cell_type": "code",
    "deepnote_output_heights": [
     null,
     21.1875
    ],
    "deepnote_to_be_reexecuted": false,
    "execution_millis": 2,
    "execution_start": 1648927074526,
    "source_hash": "492bfb46"
   },
   "outputs": [
    {
     "name": "stdout",
     "output_type": "stream",
     "text": [
      "João\n"
     ]
    },
    {
     "data": {
      "text/plain": [
       "str"
      ]
     },
     "execution_count": 33,
     "metadata": {},
     "output_type": "execute_result"
    }
   ],
   "source": [
    "# extraclass PEP8 recommendations\n",
    "name = \"João\"\n",
    "\n",
    "print(name)\n",
    "type(name)"
   ]
  },
  {
   "cell_type": "code",
   "execution_count": 35,
   "id": "d10c7764",
   "metadata": {
    "cell_id": "00010-3337aeed-c7ca-465e-a84c-c86d419f9eef",
    "deepnote_cell_height": 200.375,
    "deepnote_cell_type": "code",
    "deepnote_output_heights": [
     null,
     21.1875
    ],
    "deepnote_to_be_reexecuted": false,
    "execution_millis": 3,
    "execution_start": 1648927179462,
    "source_hash": "688881bf"
   },
   "outputs": [
    {
     "name": "stdout",
     "output_type": "stream",
     "text": [
      "2.71828\n"
     ]
    },
    {
     "data": {
      "text/plain": [
       "float"
      ]
     },
     "execution_count": 35,
     "metadata": {},
     "output_type": "execute_result"
    }
   ],
   "source": [
    "valor=2.71828\n",
    "print(valor)\n",
    "type(valor)"
   ]
  },
  {
   "cell_type": "code",
   "execution_count": 36,
   "id": "fe8d0352",
   "metadata": {
    "cell_id": "00011-8cf3e3dc-6cac-4e72-a4b5-e0ec5342bb28",
    "deepnote_cell_height": 236.375,
    "deepnote_cell_type": "code",
    "deepnote_output_heights": [
     null,
     21.1875
    ],
    "deepnote_to_be_reexecuted": false,
    "execution_millis": 6,
    "execution_start": 1648927219001,
    "source_hash": "4029b25e"
   },
   "outputs": [
    {
     "name": "stdout",
     "output_type": "stream",
     "text": [
      "2.71828\n"
     ]
    },
    {
     "data": {
      "text/plain": [
       "float"
      ]
     },
     "execution_count": 36,
     "metadata": {},
     "output_type": "execute_result"
    }
   ],
   "source": [
    "# extraclass PEP8 recommendations\n",
    "value = 2.71828\n",
    "\n",
    "print(value)\n",
    "type(value)"
   ]
  },
  {
   "cell_type": "code",
   "execution_count": 37,
   "id": "e1dc1b98",
   "metadata": {
    "cell_id": "00012-aa025eca-da37-4b36-9c7a-77c11aa15e1f",
    "deepnote_cell_height": 200.375,
    "deepnote_cell_type": "code",
    "deepnote_output_heights": [
     null,
     21.1875
    ],
    "deepnote_to_be_reexecuted": false,
    "execution_millis": 13,
    "execution_start": 1648927227923,
    "source_hash": "26cc1d2f"
   },
   "outputs": [
    {
     "name": "stdout",
     "output_type": "stream",
     "text": [
      "(2+3j)\n"
     ]
    },
    {
     "data": {
      "text/plain": [
       "complex"
      ]
     },
     "execution_count": 37,
     "metadata": {},
     "output_type": "execute_result"
    }
   ],
   "source": [
    "num_complexo=2+3j\n",
    "print(num_complexo)\n",
    "type(num_complexo)"
   ]
  },
  {
   "cell_type": "code",
   "execution_count": 38,
   "id": "3d31fae1",
   "metadata": {
    "cell_id": "00013-680f4a7e-f7ba-46bc-ba73-81c64be70d86",
    "deepnote_cell_height": 254.375,
    "deepnote_cell_type": "code",
    "deepnote_output_heights": [
     null,
     21.1875
    ],
    "deepnote_to_be_reexecuted": false,
    "execution_millis": 5,
    "execution_start": 1648927238284,
    "source_hash": "98bf7cb5"
   },
   "outputs": [
    {
     "name": "stdout",
     "output_type": "stream",
     "text": [
      "(2+3j)\n"
     ]
    },
    {
     "data": {
      "text/plain": [
       "complex"
      ]
     },
     "execution_count": 38,
     "metadata": {},
     "output_type": "execute_result"
    }
   ],
   "source": [
    "# extraclass PEP8 recommendations\n",
    "complex_number = 2 + 3j\n",
    "\n",
    "print(complex_number)\n",
    "type(complex_number)\n"
   ]
  },
  {
   "cell_type": "code",
   "execution_count": 39,
   "id": "842cb6b8",
   "metadata": {
    "cell_id": "00014-b1079cba-fbb1-4fac-ae84-cf87deb46747",
    "deepnote_cell_height": 256.5625,
    "deepnote_cell_type": "code",
    "deepnote_output_heights": [
     null,
     21.1875
    ],
    "deepnote_to_be_reexecuted": false,
    "execution_millis": 5,
    "execution_start": 1648927312184,
    "source_hash": "7f2afd57"
   },
   "outputs": [
    {
     "name": "stdout",
     "output_type": "stream",
     "text": [
      "3504.35\n",
      "42052.2\n"
     ]
    },
    {
     "data": {
      "text/plain": [
       "(float, float)"
      ]
     },
     "execution_count": 39,
     "metadata": {},
     "output_type": "execute_result"
    }
   ],
   "source": [
    "salario_mensal, salario_anual=3504.35,3504.35*12\n",
    "print(salario_mensal)\n",
    "print(salario_anual)\n",
    "type(salario_mensal), type(salario_anual)\n"
   ]
  },
  {
   "cell_type": "code",
   "execution_count": 40,
   "id": "28a4b331",
   "metadata": {
    "cell_id": "00015-26624ea1-452c-4e41-821f-f1875da23aa1",
    "deepnote_cell_height": 274.5625,
    "deepnote_cell_type": "code",
    "deepnote_output_heights": [
     null,
     21.1875
    ],
    "deepnote_to_be_reexecuted": false,
    "execution_millis": 4,
    "execution_start": 1648927381846,
    "source_hash": "61e40ffc"
   },
   "outputs": [
    {
     "name": "stdout",
     "output_type": "stream",
     "text": [
      "3504.35\n",
      "42052.2\n"
     ]
    },
    {
     "data": {
      "text/plain": [
       "(float, float)"
      ]
     },
     "execution_count": 40,
     "metadata": {},
     "output_type": "execute_result"
    }
   ],
   "source": [
    "# extraclass PEP8 recommendations\n",
    "monthly_salary, annual_salary = 3504.35, 3504.35*12\n",
    "\n",
    "print(monthly_salary)\n",
    "print(annual_salary)\n",
    "type(monthly_salary), type(annual_salary)"
   ]
  },
  {
   "cell_type": "code",
   "execution_count": 44,
   "id": "6165cfc1",
   "metadata": {
    "cell_id": "00016-c83473f3-4fa8-4aeb-8fce-6c103dbafe29",
    "deepnote_cell_height": 136.1875,
    "deepnote_cell_type": "code",
    "deepnote_output_heights": [
     21.1875
    ],
    "deepnote_to_be_reexecuted": false,
    "execution_millis": 12,
    "execution_start": 1648928069931,
    "source_hash": "34747fab"
   },
   "outputs": [
    {
     "data": {
      "text/plain": [
       "datetime.date(2022, 4, 2)"
      ]
     },
     "execution_count": 44,
     "metadata": {},
     "output_type": "execute_result"
    }
   ],
   "source": [
    "# from datetime import date\n",
    "date.today()"
   ]
  },
  {
   "cell_type": "code",
   "execution_count": 45,
   "id": "7690ec7f",
   "metadata": {
    "cell_id": "00017-9591cdc9-1573-48a7-9b1b-6aa4e71cd3a7",
    "deepnote_cell_height": 130.1875,
    "deepnote_cell_type": "code",
    "deepnote_to_be_reexecuted": false,
    "execution_millis": 193,
    "execution_start": 1648928101374,
    "source_hash": "9020ae81"
   },
   "outputs": [
    {
     "name": "stdout",
     "output_type": "stream",
     "text": [
      "2022-04-02\n"
     ]
    }
   ],
   "source": [
    "data=date.today()\n",
    "print(data)"
   ]
  },
  {
   "cell_type": "code",
   "execution_count": 46,
   "id": "acb4ae5a",
   "metadata": {
    "cell_id": "00018-5083ea82-e4df-4bff-8192-3d403995580b",
    "deepnote_cell_height": 236.375,
    "deepnote_cell_type": "code",
    "deepnote_output_heights": [
     null,
     21.1875
    ],
    "deepnote_to_be_reexecuted": false,
    "execution_millis": 10,
    "execution_start": 1648928119987,
    "source_hash": "ffda616f"
   },
   "outputs": [
    {
     "name": "stdout",
     "output_type": "stream",
     "text": [
      "2022-04-02\n"
     ]
    },
    {
     "data": {
      "text/plain": [
       "datetime.date"
      ]
     },
     "execution_count": 46,
     "metadata": {},
     "output_type": "execute_result"
    }
   ],
   "source": [
    "# extraclass recommendations\n",
    "today = date.today()\n",
    "\n",
    "print(today)\n",
    "type(today)"
   ]
  },
  {
   "cell_type": "code",
   "execution_count": 47,
   "id": "58eb4dc1",
   "metadata": {
    "cell_id": "00019-088503d1-b3e6-4595-b1ce-a7449dce56fe",
    "deepnote_cell_height": 118.1875,
    "deepnote_cell_type": "code",
    "deepnote_output_heights": [
     21.1875
    ],
    "deepnote_to_be_reexecuted": false,
    "execution_millis": 7,
    "execution_start": 1648928156650,
    "source_hash": "9653dc5"
   },
   "outputs": [
    {
     "data": {
      "text/plain": [
       "datetime.date"
      ]
     },
     "execution_count": 47,
     "metadata": {},
     "output_type": "execute_result"
    }
   ],
   "source": [
    "type(data)"
   ]
  },
  {
   "cell_type": "code",
   "execution_count": 48,
   "id": "bd9b8bd3",
   "metadata": {
    "cell_id": "00020-bec1904e-8b26-42a2-bf53-f3f44b892c89",
    "deepnote_cell_height": 130.1875,
    "deepnote_cell_type": "code",
    "deepnote_to_be_reexecuted": false,
    "execution_millis": 9,
    "execution_start": 1648928180229,
    "source_hash": "d5d0d2c6"
   },
   "outputs": [
    {
     "name": "stdout",
     "output_type": "stream",
     "text": [
      "2020-09-24\n"
     ]
    }
   ],
   "source": [
    "dataSimples = date(year=2020, month=9, day=24)\n",
    "print(dataSimples)"
   ]
  },
  {
   "cell_type": "code",
   "execution_count": 49,
   "id": "c0989637",
   "metadata": {
    "cell_id": "00021-e99162da-8fa8-4389-861c-bcd9eb880f21",
    "deepnote_cell_height": 166.1875,
    "deepnote_cell_type": "code",
    "deepnote_to_be_reexecuted": false,
    "execution_millis": 2,
    "execution_start": 1648928188647,
    "source_hash": "722ee942"
   },
   "outputs": [
    {
     "name": "stdout",
     "output_type": "stream",
     "text": [
      "2020-09-24\n"
     ]
    }
   ],
   "source": [
    "# extraclass recommendations\n",
    "simple_date = date(year=2020, month=9, day=24)\n",
    "\n",
    "print(simple_date)"
   ]
  },
  {
   "cell_type": "code",
   "execution_count": 50,
   "id": "f2511547",
   "metadata": {
    "cell_id": "00022-5704fdc5-0709-402f-bc55-f9a33f5c02e6",
    "deepnote_cell_height": 112.1875,
    "deepnote_cell_type": "code",
    "deepnote_to_be_reexecuted": false,
    "execution_millis": 11,
    "execution_start": 1648928197900,
    "source_hash": "b50dccf8"
   },
   "outputs": [
    {
     "name": "stdout",
     "output_type": "stream",
     "text": [
      "João\n"
     ]
    }
   ],
   "source": [
    "print(nome)"
   ]
  },
  {
   "cell_type": "code",
   "execution_count": 51,
   "id": "07c91199",
   "metadata": {
    "cell_id": "00023-b18af6a6-5d3c-4710-b752-8a1a9b2d9b46",
    "deepnote_cell_height": 144.1875,
    "deepnote_cell_type": "code",
    "deepnote_to_be_reexecuted": false,
    "execution_millis": 2,
    "execution_start": 1648928242670,
    "source_hash": "6384f400"
   },
   "outputs": [
    {
     "ename": "SyntaxError",
     "evalue": "Missing parentheses in call to 'print'. Did you mean print(nome)? (<ipython-input-51-61d5ca855c3a>, line 1)",
     "output_type": "error",
     "traceback": [
      "\u001b[0;36m  File \u001b[0;32m\"<ipython-input-51-61d5ca855c3a>\"\u001b[0;36m, line \u001b[0;32m1\u001b[0m\n\u001b[0;31m    print nome\u001b[0m\n\u001b[0m             ^\u001b[0m\n\u001b[0;31mSyntaxError\u001b[0m\u001b[0;31m:\u001b[0m Missing parentheses in call to 'print'. Did you mean print(nome)?\n"
     ]
    }
   ],
   "source": [
    "print nome"
   ]
  },
  {
   "cell_type": "code",
   "execution_count": 52,
   "id": "0ed81a01",
   "metadata": {
    "cell_id": "00024-f79f4a20-9287-48f8-b0f2-81f78c90d01c",
    "deepnote_cell_height": 130.1875,
    "deepnote_cell_type": "code",
    "deepnote_to_be_reexecuted": false,
    "execution_millis": 1,
    "execution_start": 1648928252904,
    "source_hash": "5cd0949a"
   },
   "outputs": [
    {
     "name": "stdout",
     "output_type": "stream",
     "text": [
      "João\n"
     ]
    }
   ],
   "source": [
    "# extraclass solution\n",
    "print(name)"
   ]
  },
  {
   "cell_type": "code",
   "execution_count": 53,
   "id": "83413aca",
   "metadata": {
    "cell_id": "00025-b2a411be-6e06-48b7-868f-11c4810f79ee",
    "deepnote_cell_height": 130.1875,
    "deepnote_cell_type": "code",
    "deepnote_to_be_reexecuted": false,
    "execution_millis": 6,
    "execution_start": 1648928262668,
    "source_hash": "ed5ae440"
   },
   "outputs": [
    {
     "name": "stdout",
     "output_type": "stream",
     "text": [
      "Paulo\n"
     ]
    }
   ],
   "source": [
    "nome_pessoa=\"Paulo\"\n",
    "print(nome_pessoa)"
   ]
  },
  {
   "cell_type": "code",
   "execution_count": 54,
   "id": "e1d37fbe",
   "metadata": {
    "cell_id": "00026-67be0f23-70ef-4a62-ba14-7aea4e2e7f78",
    "deepnote_cell_height": 166.1875,
    "deepnote_cell_type": "code",
    "deepnote_to_be_reexecuted": false,
    "execution_millis": 10,
    "execution_start": 1648928272253,
    "source_hash": "2f5ccb15"
   },
   "outputs": [
    {
     "name": "stdout",
     "output_type": "stream",
     "text": [
      "Paulo\n"
     ]
    }
   ],
   "source": [
    "# extraclass PEP8 recommendations\n",
    "person_name = \"Paulo\"\n",
    "\n",
    "print(person_name)"
   ]
  },
  {
   "cell_type": "code",
   "execution_count": null,
   "id": "8e3aa54c",
   "metadata": {
    "cell_id": "00027-9db8da52-38e8-4c8c-ad8b-f5acf48c46fe",
    "deepnote_cell_height": 162.1875,
    "deepnote_cell_type": "code"
   },
   "outputs": [
    {
     "ename": "SyntaxError",
     "evalue": "cannot assign to operator (Temp/ipykernel_5036/797727224.py, line 1)",
     "output_type": "error",
     "traceback": [
      "\u001b[1;36m  File \u001b[1;32m\"C:\\Users\\mpfag\\AppData\\Local\\Temp/ipykernel_5036/797727224.py\"\u001b[1;36m, line \u001b[1;32m1\u001b[0m\n\u001b[1;33m    nome&pessoa=\"Paulo\"\u001b[0m\n\u001b[1;37m    ^\u001b[0m\n\u001b[1;31mSyntaxError\u001b[0m\u001b[1;31m:\u001b[0m cannot assign to operator\n"
     ]
    }
   ],
   "source": [
    "nome&pessoa=\"Paulo\"\n",
    "print(nome&pessoa)"
   ]
  },
  {
   "cell_type": "code",
   "execution_count": 55,
   "id": "a6f9c56c",
   "metadata": {
    "cell_id": "00028-290b0a4f-b17a-4983-94b9-46b5e9f32971",
    "deepnote_cell_height": 130.1875,
    "deepnote_cell_type": "code",
    "deepnote_to_be_reexecuted": false,
    "execution_millis": 2,
    "execution_start": 1648928455418,
    "source_hash": "a603d73d"
   },
   "outputs": [
    {
     "name": "stdout",
     "output_type": "stream",
     "text": [
      "Paulo\n"
     ]
    }
   ],
   "source": [
    "# extraclass solution\n",
    "print(person_name)"
   ]
  },
  {
   "cell_type": "code",
   "execution_count": 56,
   "id": "147aa7fa",
   "metadata": {
    "cell_id": "00029-ac4aa095-79c2-4818-95e3-6e34936d13fc",
    "deepnote_cell_height": 130.1875,
    "deepnote_cell_type": "code",
    "deepnote_to_be_reexecuted": false,
    "execution_millis": 3,
    "execution_start": 1648928561006,
    "source_hash": "77b9bff5"
   },
   "outputs": [
    {
     "name": "stdout",
     "output_type": "stream",
     "text": [
      "Paulo\n"
     ]
    }
   ],
   "source": [
    "nome_is_verdadeiro=\"Paulo\"\n",
    "print(nome_is_verdadeiro)"
   ]
  },
  {
   "cell_type": "code",
   "execution_count": 57,
   "id": "c3e4e832",
   "metadata": {
    "cell_id": "00030-1d2fabfe-8fe1-4315-b3f7-5909e9c1cbe6",
    "deepnote_cell_height": 166.1875,
    "deepnote_cell_type": "code",
    "deepnote_to_be_reexecuted": false,
    "execution_millis": 414,
    "execution_start": 1648928572781,
    "source_hash": "1a1f23ac"
   },
   "outputs": [
    {
     "name": "stdout",
     "output_type": "stream",
     "text": [
      "Paulo\n"
     ]
    }
   ],
   "source": [
    "# extraclass recommendations\n",
    "name_is_true = \"Paulo\"\n",
    "\n",
    "print(name_is_true)"
   ]
  },
  {
   "cell_type": "code",
   "execution_count": 59,
   "id": "06f0954b",
   "metadata": {
    "cell_id": "00031-ad7c5e4d-1283-4cc5-9439-11fde9d3cc9e",
    "deepnote_cell_height": 162.1875,
    "deepnote_cell_type": "code",
    "deepnote_to_be_reexecuted": false,
    "execution_millis": 29,
    "execution_start": 1648928602370,
    "source_hash": "289cf7e2"
   },
   "outputs": [
    {
     "ename": "SyntaxError",
     "evalue": "invalid syntax (<ipython-input-59-ceac05bf7ba4>, line 1)",
     "output_type": "error",
     "traceback": [
      "\u001b[0;36m  File \u001b[0;32m\"<ipython-input-59-ceac05bf7ba4>\"\u001b[0;36m, line \u001b[0;32m1\u001b[0m\n\u001b[0;31m    is=\"Paulo\"\u001b[0m\n\u001b[0m     ^\u001b[0m\n\u001b[0;31mSyntaxError\u001b[0m\u001b[0;31m:\u001b[0m invalid syntax\n"
     ]
    }
   ],
   "source": [
    "is=\"Paulo\"\n",
    "print(is)"
   ]
  },
  {
   "cell_type": "code",
   "execution_count": 58,
   "id": "e35b85bb",
   "metadata": {
    "cell_id": "00032-29939fbf-6bd4-490d-a910-3d4b46b684ee",
    "deepnote_cell_height": 130.1875,
    "deepnote_cell_type": "code",
    "deepnote_to_be_reexecuted": false,
    "execution_millis": 168,
    "execution_start": 1648928595455,
    "source_hash": "2efa63b0"
   },
   "outputs": [
    {
     "name": "stdout",
     "output_type": "stream",
     "text": [
      "Paulo\n"
     ]
    }
   ],
   "source": [
    "nome_class=\"Paulo\"\n",
    "print(nome_class)"
   ]
  },
  {
   "cell_type": "code",
   "execution_count": 60,
   "id": "3a921b03",
   "metadata": {
    "cell_id": "00033-ac2484f9-7cfc-4b75-92b7-926cd36b0493",
    "deepnote_cell_height": 166.1875,
    "deepnote_cell_type": "code",
    "deepnote_to_be_reexecuted": false,
    "execution_millis": 2,
    "execution_start": 1648928687082,
    "source_hash": "6d589dc1"
   },
   "outputs": [
    {
     "name": "stdout",
     "output_type": "stream",
     "text": [
      "Paulo\n"
     ]
    }
   ],
   "source": [
    "# extraclass PEP8 recommendations\n",
    "class_name = \"Paulo\"\n",
    "\n",
    "print(class_name)"
   ]
  },
  {
   "cell_type": "code",
   "execution_count": 61,
   "id": "1367d1ff",
   "metadata": {
    "cell_id": "00034-2525ba1b-a8ae-418f-887b-417bd79445b0",
    "deepnote_cell_height": 99,
    "deepnote_cell_type": "code",
    "deepnote_to_be_reexecuted": false,
    "execution_millis": 13,
    "execution_start": 1648928695051,
    "source_hash": "de1d5d7a"
   },
   "outputs": [],
   "source": [
    "x=10\n",
    "y=4"
   ]
  },
  {
   "cell_type": "code",
   "execution_count": 62,
   "id": "26d05e49",
   "metadata": {
    "cell_id": "00035-5575b4c0-d114-412d-b7e2-d996313c3b3a",
    "deepnote_cell_height": 117,
    "deepnote_cell_type": "code",
    "deepnote_to_be_reexecuted": false,
    "execution_millis": 0,
    "execution_start": 1648928700091,
    "source_hash": "805b0517"
   },
   "outputs": [],
   "source": [
    "# extraclass PEP8 recommendations\n",
    "x = 10\n",
    "y = 4"
   ]
  },
  {
   "cell_type": "code",
   "execution_count": 63,
   "id": "65685468",
   "metadata": {
    "cell_id": "00036-8848c44d-03a4-4473-8f82-ee16ccd0090f",
    "deepnote_cell_height": 136.1875,
    "deepnote_cell_type": "code",
    "deepnote_output_heights": [
     21.1875
    ],
    "deepnote_to_be_reexecuted": false,
    "execution_millis": 7,
    "execution_start": 1648928703218,
    "source_hash": "816ac6de"
   },
   "outputs": [
    {
     "data": {
      "text/plain": [
       "14"
      ]
     },
     "execution_count": 63,
     "metadata": {},
     "output_type": "execute_result"
    }
   ],
   "source": [
    "#Soma de x e y\n",
    "x+y"
   ]
  },
  {
   "cell_type": "code",
   "execution_count": 64,
   "id": "b32f2a51",
   "metadata": {
    "cell_id": "00037-aeb18d2f-b252-4a5a-925f-139bc21217e7",
    "deepnote_cell_height": 136.1875,
    "deepnote_cell_type": "code",
    "deepnote_output_heights": [
     21.1875
    ],
    "deepnote_to_be_reexecuted": false,
    "execution_millis": 5,
    "execution_start": 1648928707457,
    "source_hash": "b456f993"
   },
   "outputs": [
    {
     "data": {
      "text/plain": [
       "6"
      ]
     },
     "execution_count": 64,
     "metadata": {},
     "output_type": "execute_result"
    }
   ],
   "source": [
    "#Subtração de x e y\n",
    "x-y"
   ]
  },
  {
   "cell_type": "code",
   "execution_count": 65,
   "id": "66391d1f",
   "metadata": {
    "cell_id": "00038-d280cd9d-0670-484a-a9d7-0a7d1991d820",
    "deepnote_cell_height": 136.1875,
    "deepnote_cell_type": "code",
    "deepnote_output_heights": [
     21.1875
    ],
    "deepnote_to_be_reexecuted": false,
    "execution_millis": 951,
    "execution_start": 1648928711332,
    "source_hash": "1eb3a024"
   },
   "outputs": [
    {
     "data": {
      "text/plain": [
       "40"
      ]
     },
     "execution_count": 65,
     "metadata": {},
     "output_type": "execute_result"
    }
   ],
   "source": [
    "#Multiplicação de x e y\n",
    "x*y"
   ]
  },
  {
   "cell_type": "code",
   "execution_count": 66,
   "id": "3382a237",
   "metadata": {
    "cell_id": "00039-5f4d070a-d90f-4af6-97ca-ec54eed19d8f",
    "deepnote_cell_height": 136.1875,
    "deepnote_cell_type": "code",
    "deepnote_output_heights": [
     21.1875
    ],
    "deepnote_to_be_reexecuted": false,
    "execution_millis": 43,
    "execution_start": 1648928717427,
    "source_hash": "68118684"
   },
   "outputs": [
    {
     "data": {
      "text/plain": [
       "2.5"
      ]
     },
     "execution_count": 66,
     "metadata": {},
     "output_type": "execute_result"
    }
   ],
   "source": [
    "#Divisão exata de x e y\n",
    "x/y"
   ]
  },
  {
   "cell_type": "code",
   "execution_count": 67,
   "id": "3d0440ef",
   "metadata": {
    "cell_id": "00040-006952c8-a649-434a-8102-4b114145c48b",
    "deepnote_cell_height": 136.1875,
    "deepnote_cell_type": "code",
    "deepnote_output_heights": [
     21.1875
    ],
    "deepnote_to_be_reexecuted": false,
    "execution_millis": 9,
    "execution_start": 1648928725387,
    "source_hash": "a1655df9"
   },
   "outputs": [
    {
     "data": {
      "text/plain": [
       "2"
      ]
     },
     "execution_count": 67,
     "metadata": {},
     "output_type": "execute_result"
    }
   ],
   "source": [
    "#Divisão inteira de x e y\n",
    "x//y"
   ]
  },
  {
   "cell_type": "code",
   "execution_count": 68,
   "id": "ec2c77df",
   "metadata": {
    "cell_id": "00041-4e7d9bdc-4da7-4414-a3cc-6dfefa5e4b6d",
    "deepnote_cell_height": 136.1875,
    "deepnote_cell_type": "code",
    "deepnote_output_heights": [
     21.1875
    ],
    "deepnote_to_be_reexecuted": false,
    "execution_millis": 3,
    "execution_start": 1648928742054,
    "source_hash": "bfdb8759"
   },
   "outputs": [
    {
     "data": {
      "text/plain": [
       "2"
      ]
     },
     "execution_count": 68,
     "metadata": {},
     "output_type": "execute_result"
    }
   ],
   "source": [
    "#Resto da divisão entre x e y\n",
    "x%y"
   ]
  },
  {
   "cell_type": "code",
   "execution_count": 69,
   "id": "c66b47d4",
   "metadata": {
    "cell_id": "00042-a8fdef07-2b0c-45e8-9db6-31149121979b",
    "deepnote_cell_height": 136.1875,
    "deepnote_cell_type": "code",
    "deepnote_output_heights": [
     21.1875
    ],
    "deepnote_to_be_reexecuted": false,
    "execution_millis": 2,
    "execution_start": 1648928749451,
    "source_hash": "4752625c"
   },
   "outputs": [
    {
     "data": {
      "text/plain": [
       "10000"
      ]
     },
     "execution_count": 69,
     "metadata": {},
     "output_type": "execute_result"
    }
   ],
   "source": [
    "#Exponenciação de x e y\n",
    "x**y"
   ]
  },
  {
   "cell_type": "code",
   "execution_count": 70,
   "id": "53bc4fb5",
   "metadata": {
    "cell_id": "00043-882f4633-6a64-4348-af58-c70aa10d6b68",
    "deepnote_cell_height": 154.1875,
    "deepnote_cell_type": "code",
    "deepnote_output_heights": [
     21.1875
    ],
    "deepnote_to_be_reexecuted": false,
    "execution_millis": 13,
    "execution_start": 1648928758960,
    "source_hash": "f39cdf49"
   },
   "outputs": [
    {
     "data": {
      "text/plain": [
       "'Marcelo Silva'"
      ]
     },
     "execution_count": 70,
     "metadata": {},
     "output_type": "execute_result"
    }
   ],
   "source": [
    "nome=\"Marcelo\"\n",
    "sobrenome=\"Silva\"\n",
    "nome + \" \" + sobrenome"
   ]
  },
  {
   "cell_type": "code",
   "execution_count": 71,
   "id": "49eb0c71",
   "metadata": {
    "cell_id": "00044-5c45e613-2c08-408c-bc7d-ace6e483c836",
    "deepnote_cell_height": 190.1875,
    "deepnote_cell_type": "code",
    "deepnote_output_heights": [
     21.1875
    ],
    "deepnote_to_be_reexecuted": false,
    "execution_millis": 1,
    "execution_start": 1648928772738,
    "source_hash": "691ca95f"
   },
   "outputs": [
    {
     "data": {
      "text/plain": [
       "'Marcelo Silva'"
      ]
     },
     "execution_count": 71,
     "metadata": {},
     "output_type": "execute_result"
    }
   ],
   "source": [
    "# extraclass PEP8 recommendations\n",
    "name = \"Marcelo\"\n",
    "surname = \"Silva\"\n",
    "\n",
    "name + \" \" + surname"
   ]
  },
  {
   "cell_type": "code",
   "execution_count": 5,
   "id": "6103b172",
   "metadata": {
    "cell_id": "6a0cd5753adc464db7f1877adbc5aaaf",
    "deepnote_cell_height": 339.125,
    "deepnote_cell_type": "code",
    "deepnote_output_heights": [
     21.1875
    ],
    "deepnote_to_be_reexecuted": false,
    "execution_millis": 28,
    "execution_start": 1648929105486,
    "source_hash": "ed4d527b",
    "tags": []
   },
   "outputs": [
    {
     "name": "stdout",
     "output_type": "stream",
     "text": [
      "Rua José Bonifácio, 81\n",
      "Apto 101\n",
      "Méier\n",
      "22770-240\n",
      "Rio de Janeiro\n",
      "Rio de Janeiro\n"
     ]
    }
   ],
   "source": [
    "address_line_1 = 'Rua José Bonifácio, 81'\n",
    "address_line_2 = \"Apto 101\"\n",
    "neighborhhod = \"Méier\"\n",
    "city = \"Rio de Janeiro\"\n",
    "state = \"Rio de Janeiro\"\n",
    "zipcode = \"22770-240\"\n",
    "\n",
    "print('{}\\n{}\\n{}\\n{}\\n{}\\n{}'.format(address_line_1, address_line_2, neighborhhod, zipcode, city, state))"
   ]
  },
  {
   "cell_type": "code",
   "execution_count": 75,
   "id": "e417dc79",
   "metadata": {
    "cell_id": "00045-775c4c1e-377f-499d-84da-85852b51f6f3",
    "deepnote_cell_height": 136.1875,
    "deepnote_cell_type": "code",
    "deepnote_output_heights": [
     21.1875
    ],
    "deepnote_to_be_reexecuted": false,
    "execution_millis": 6,
    "execution_start": 1648929255638,
    "source_hash": "80ef07a3"
   },
   "outputs": [
    {
     "data": {
      "text/plain": [
       "'Brasil Brasil Brasil '"
      ]
     },
     "execution_count": 75,
     "metadata": {},
     "output_type": "execute_result"
    }
   ],
   "source": [
    "pais=\"Brasil \"\n",
    "pais*3"
   ]
  },
  {
   "cell_type": "code",
   "execution_count": 76,
   "id": "0287e165",
   "metadata": {
    "cell_id": "00046-806ae3d7-a902-484e-bb20-d30e43af51ce",
    "deepnote_cell_height": 154.1875,
    "deepnote_cell_type": "code",
    "deepnote_output_heights": [
     21.1875
    ],
    "deepnote_to_be_reexecuted": false,
    "execution_millis": 3,
    "execution_start": 1648929272268,
    "source_hash": "6d48ed82"
   },
   "outputs": [
    {
     "data": {
      "text/plain": [
       "'Brasil Brasil Brasil '"
      ]
     },
     "execution_count": 76,
     "metadata": {},
     "output_type": "execute_result"
    }
   ],
   "source": [
    "# extraclass PEP8 recommendations\n",
    "country = \"Brasil \"\n",
    "country * 3"
   ]
  },
  {
   "cell_type": "code",
   "execution_count": 77,
   "id": "c17cde91",
   "metadata": {
    "cell_id": "00047-b500b58c-6d8c-49e8-a3b4-8e2476582e83",
    "deepnote_cell_height": 118.1875,
    "deepnote_cell_type": "code",
    "deepnote_output_heights": [
     21.1875
    ],
    "deepnote_to_be_reexecuted": false,
    "execution_millis": 12,
    "execution_start": 1648929288716,
    "source_hash": "b8940c8e"
   },
   "outputs": [
    {
     "data": {
      "text/plain": [
       "'BRASIL '"
      ]
     },
     "execution_count": 77,
     "metadata": {},
     "output_type": "execute_result"
    }
   ],
   "source": [
    "pais.upper()"
   ]
  },
  {
   "cell_type": "code",
   "execution_count": 78,
   "id": "1b0ce923",
   "metadata": {
    "cell_id": "00048-68bbf3c2-e4e3-433f-9c1a-9927cd50dfc6",
    "deepnote_cell_height": 118.1875,
    "deepnote_cell_type": "code",
    "deepnote_output_heights": [
     21.1875
    ],
    "deepnote_to_be_reexecuted": false,
    "execution_millis": 17,
    "execution_start": 1648929293056,
    "source_hash": "45c569cb"
   },
   "outputs": [
    {
     "data": {
      "text/plain": [
       "'brasil '"
      ]
     },
     "execution_count": 78,
     "metadata": {},
     "output_type": "execute_result"
    }
   ],
   "source": [
    "pais.lower()"
   ]
  },
  {
   "cell_type": "code",
   "execution_count": 79,
   "id": "beccfe88",
   "metadata": {
    "cell_id": "00049-ff19f463-95b8-4d9c-9edb-76f0832e2c03",
    "deepnote_cell_height": 118.1875,
    "deepnote_cell_type": "code",
    "deepnote_output_heights": [
     21.1875
    ],
    "deepnote_to_be_reexecuted": false,
    "execution_millis": 9,
    "execution_start": 1648929296694,
    "source_hash": "28f7cd93"
   },
   "outputs": [
    {
     "data": {
      "text/plain": [
       "'Brasil '"
      ]
     },
     "execution_count": 79,
     "metadata": {},
     "output_type": "execute_result"
    }
   ],
   "source": [
    "pais.capitalize()"
   ]
  },
  {
   "cell_type": "code",
   "execution_count": 80,
   "id": "a1fcadaf",
   "metadata": {
    "cell_id": "00050-2368b86b-8857-4278-9f3c-db54f4ee1b12",
    "deepnote_cell_height": 81,
    "deepnote_cell_type": "code",
    "deepnote_to_be_reexecuted": false,
    "execution_millis": 18868,
    "execution_start": 1648929308084,
    "source_hash": "b0d2b280"
   },
   "outputs": [],
   "source": [
    "nome_do_usuario=input(\"Como você se chama?\\n\")"
   ]
  },
  {
   "cell_type": "code",
   "execution_count": 82,
   "id": "ecbfc41b",
   "metadata": {
    "cell_id": "00052-a4127501-a8bf-47ce-9805-8a3386991cf5",
    "deepnote_cell_height": 112.1875,
    "deepnote_cell_type": "code",
    "deepnote_to_be_reexecuted": false,
    "execution_millis": 8,
    "execution_start": 1648929354455,
    "source_hash": "554f5787"
   },
   "outputs": [
    {
     "name": "stdout",
     "output_type": "stream",
     "text": [
      "Rodrigo\n"
     ]
    }
   ],
   "source": [
    "print(nome_do_usuario)"
   ]
  },
  {
   "cell_type": "code",
   "execution_count": 83,
   "id": "d17977c3",
   "metadata": {
    "cell_id": "00053-1551ad6a-8489-4c61-913e-91380f2d510c",
    "deepnote_cell_height": 81,
    "deepnote_cell_type": "code",
    "deepnote_to_be_reexecuted": false,
    "execution_millis": 4230,
    "execution_start": 1648929374953,
    "source_hash": "9a4a457a"
   },
   "outputs": [],
   "source": [
    "idade_do_usuario=input(\"Qual a sua idade?\\n\")"
   ]
  },
  {
   "cell_type": "code",
   "execution_count": 84,
   "id": "889374c6",
   "metadata": {
    "cell_id": "00054-3e6c0eec-bf40-404a-95d6-d8272ceec86d",
    "deepnote_cell_height": 112.1875,
    "deepnote_cell_type": "code",
    "deepnote_to_be_reexecuted": false,
    "execution_millis": 6,
    "execution_start": 1648929382147,
    "source_hash": "1b7c3043"
   },
   "outputs": [
    {
     "name": "stdout",
     "output_type": "stream",
     "text": [
      "42\n"
     ]
    }
   ],
   "source": [
    "print(idade_do_usuario)"
   ]
  },
  {
   "cell_type": "code",
   "execution_count": 85,
   "id": "2f8f2fbe",
   "metadata": {
    "cell_id": "00055-02cbeeff-305a-4372-a85c-6ff31b0b403f",
    "deepnote_cell_height": 112.1875,
    "deepnote_cell_type": "code",
    "deepnote_to_be_reexecuted": false,
    "execution_millis": 1,
    "execution_start": 1648929385166,
    "source_hash": "e45e4bac"
   },
   "outputs": [
    {
     "name": "stdout",
     "output_type": "stream",
     "text": [
      "Seu nome é Rodrigo e sua idade é 42 anos\n"
     ]
    }
   ],
   "source": [
    "print(\"Seu nome é \" + nome_do_usuario + ' e sua idade é ' + idade_do_usuario + \" anos\")"
   ]
  },
  {
   "cell_type": "code",
   "execution_count": 86,
   "id": "df1bc157",
   "metadata": {
    "cell_id": "00056-7b7f14e3-fe7d-43e3-9041-0d24904ff507",
    "deepnote_cell_height": 118.1875,
    "deepnote_cell_type": "code",
    "deepnote_output_heights": [
     21.1875
    ],
    "deepnote_to_be_reexecuted": false,
    "execution_millis": 516,
    "execution_start": 1648929459342,
    "source_hash": "9e338ff5"
   },
   "outputs": [
    {
     "data": {
      "text/plain": [
       "32"
      ]
     },
     "execution_count": 86,
     "metadata": {},
     "output_type": "execute_result"
    }
   ],
   "source": [
    "4 * 2 ** 3"
   ]
  },
  {
   "cell_type": "code",
   "execution_count": 87,
   "id": "e1256421",
   "metadata": {
    "cell_id": "00057-5c1b2595-8c79-4145-8e76-dbb5c7d97e89",
    "deepnote_cell_height": 118.1875,
    "deepnote_cell_type": "code",
    "deepnote_output_heights": [
     21.1875
    ],
    "deepnote_to_be_reexecuted": false,
    "execution_millis": 3,
    "execution_start": 1648929488882,
    "source_hash": "f04c3b83"
   },
   "outputs": [
    {
     "data": {
      "text/plain": [
       "512"
      ]
     },
     "execution_count": 87,
     "metadata": {},
     "output_type": "execute_result"
    }
   ],
   "source": [
    "(4 * 2) ** 3"
   ]
  },
  {
   "cell_type": "code",
   "execution_count": 88,
   "id": "344ec755",
   "metadata": {
    "cell_id": "00058-4b4f12af-336e-43ff-88be-680c0c0da3e5",
    "deepnote_cell_height": 118.1875,
    "deepnote_cell_type": "code",
    "deepnote_output_heights": [
     21.1875
    ],
    "deepnote_to_be_reexecuted": false,
    "execution_millis": 2,
    "execution_start": 1648929744010,
    "source_hash": "156c59a5"
   },
   "outputs": [
    {
     "data": {
      "text/plain": [
       "27"
      ]
     },
     "execution_count": 88,
     "metadata": {},
     "output_type": "execute_result"
    }
   ],
   "source": [
    "3 ** 2 * 3"
   ]
  },
  {
   "cell_type": "code",
   "execution_count": 89,
   "id": "fc0e7c66",
   "metadata": {
    "cell_id": "00059-09c7e6bd-a4fd-41f4-99f3-4f79963a0218",
    "deepnote_cell_height": 118.1875,
    "deepnote_cell_type": "code",
    "deepnote_output_heights": [
     21.1875
    ],
    "deepnote_to_be_reexecuted": false,
    "execution_millis": 2,
    "execution_start": 1648929796926,
    "scrolled": true,
    "source_hash": "5f9a1141"
   },
   "outputs": [
    {
     "data": {
      "text/plain": [
       "True"
      ]
     },
     "execution_count": 89,
     "metadata": {},
     "output_type": "execute_result"
    }
   ],
   "source": [
    "4 > 2"
   ]
  },
  {
   "cell_type": "code",
   "execution_count": 90,
   "id": "b245aa3f",
   "metadata": {
    "cell_id": "00060-8bb3ee30-dabe-409b-b92f-067ea2456e0b",
    "deepnote_cell_height": 118.1875,
    "deepnote_cell_type": "code",
    "deepnote_output_heights": [
     21.1875
    ],
    "deepnote_to_be_reexecuted": false,
    "execution_millis": 10,
    "execution_start": 1648929802280,
    "scrolled": false,
    "source_hash": "c777d9a3"
   },
   "outputs": [
    {
     "data": {
      "text/plain": [
       "True"
      ]
     },
     "execution_count": 90,
     "metadata": {},
     "output_type": "execute_result"
    }
   ],
   "source": [
    "2 < 4"
   ]
  },
  {
   "cell_type": "code",
   "execution_count": null,
   "id": "e2cfb2cb",
   "metadata": {
    "cell_id": "00061-553e4994-a8dc-4265-b68b-e79b1938fd4a",
    "deepnote_cell_height": 144.1875,
    "deepnote_cell_type": "code",
    "scrolled": true
   },
   "outputs": [
    {
     "ename": "SyntaxError",
     "evalue": "cannot assign to literal (Temp/ipykernel_5036/3246137784.py, line 1)",
     "output_type": "error",
     "traceback": [
      "\u001b[1;36m  File \u001b[1;32m\"C:\\Users\\mpfag\\AppData\\Local\\Temp/ipykernel_5036/3246137784.py\"\u001b[1;36m, line \u001b[1;32m1\u001b[0m\n\u001b[1;33m    2=4\u001b[0m\n\u001b[1;37m    ^\u001b[0m\n\u001b[1;31mSyntaxError\u001b[0m\u001b[1;31m:\u001b[0m cannot assign to literal\n"
     ]
    }
   ],
   "source": [
    "2=4"
   ]
  },
  {
   "cell_type": "code",
   "execution_count": 91,
   "id": "b1f902fc",
   "metadata": {
    "cell_id": "00062-96803802-41e0-46ed-88e3-cd0ec8b32972",
    "deepnote_cell_height": 118.1875,
    "deepnote_cell_type": "code",
    "deepnote_output_heights": [
     21.1875
    ],
    "deepnote_to_be_reexecuted": false,
    "execution_millis": 1,
    "execution_start": 1648929848361,
    "scrolled": true,
    "source_hash": "62f0e687"
   },
   "outputs": [
    {
     "data": {
      "text/plain": [
       "False"
      ]
     },
     "execution_count": 91,
     "metadata": {},
     "output_type": "execute_result"
    }
   ],
   "source": [
    "2==4"
   ]
  },
  {
   "cell_type": "code",
   "execution_count": 92,
   "id": "96a7717c",
   "metadata": {
    "cell_id": "00063-670277f2-cb8e-454e-8159-e73dc6fa6e49",
    "deepnote_cell_height": 118.1875,
    "deepnote_cell_type": "code",
    "deepnote_output_heights": [
     21.1875
    ],
    "deepnote_to_be_reexecuted": false,
    "execution_millis": 1,
    "execution_start": 1648929899528,
    "scrolled": true,
    "source_hash": "64923c27"
   },
   "outputs": [
    {
     "data": {
      "text/plain": [
       "True"
      ]
     },
     "execution_count": 92,
     "metadata": {},
     "output_type": "execute_result"
    }
   ],
   "source": [
    "5!=3"
   ]
  },
  {
   "cell_type": "code",
   "execution_count": 93,
   "id": "856e630d",
   "metadata": {
    "cell_id": "00064-7b6d0863-b57c-45c3-a3ed-97beab7fa500",
    "deepnote_cell_height": 118.1875,
    "deepnote_cell_type": "code",
    "deepnote_output_heights": [
     21.1875
    ],
    "deepnote_to_be_reexecuted": false,
    "execution_millis": 13,
    "execution_start": 1648929903658,
    "scrolled": true,
    "source_hash": "b939a80c"
   },
   "outputs": [
    {
     "data": {
      "text/plain": [
       "True"
      ]
     },
     "execution_count": 93,
     "metadata": {},
     "output_type": "execute_result"
    }
   ],
   "source": [
    "5>=4"
   ]
  },
  {
   "cell_type": "code",
   "execution_count": null,
   "id": "3f939238",
   "metadata": {
    "cell_id": "00065-f2dd273d-9bc1-4174-a48f-51dbc0c47e40",
    "deepnote_cell_height": 66,
    "deepnote_cell_type": "code"
   },
   "outputs": [],
   "source": []
  },
  {
   "cell_type": "code",
   "execution_count": 99,
   "id": "b32d7b59",
   "metadata": {
    "cell_id": "7b0cd9875645470bb1e2459572863ac6",
    "deepnote_cell_height": 81,
    "deepnote_cell_type": "code",
    "deepnote_to_be_reexecuted": false,
    "execution_millis": 5426,
    "execution_start": 1648930311594,
    "source_hash": "7b026247",
    "tags": []
   },
   "outputs": [],
   "source": [
    "number1 = int(input('Digite o valor 01'))"
   ]
  },
  {
   "cell_type": "code",
   "execution_count": 100,
   "id": "f662b7ca",
   "metadata": {
    "cell_id": "b36a3d9910754e8a8020e8542c9cb04b",
    "deepnote_cell_height": 81,
    "deepnote_cell_type": "code",
    "deepnote_to_be_reexecuted": false,
    "execution_millis": 3453,
    "execution_start": 1648930319538,
    "source_hash": "777c0ecc",
    "tags": []
   },
   "outputs": [],
   "source": [
    "number2 = int(input('Digite o valor 02'))"
   ]
  },
  {
   "cell_type": "code",
   "execution_count": 101,
   "id": "c3ba37ea",
   "metadata": {
    "cell_id": "d3c0340b50954e719b2cd5869a81779d",
    "deepnote_cell_height": 144,
    "deepnote_cell_type": "code",
    "deepnote_output_heights": [
     21.1875
    ],
    "deepnote_to_be_reexecuted": false,
    "execution_millis": 10,
    "execution_start": 1648930335840,
    "source_hash": "58e19f60",
    "tags": []
   },
   "outputs": [
    {
     "data": {
      "text/plain": [
       "56088"
      ]
     },
     "execution_count": 101,
     "metadata": {},
     "output_type": "execute_result"
    }
   ],
   "source": [
    "number1 * number2"
   ]
  },
  {
   "cell_type": "markdown",
   "id": "cd88af9b",
   "metadata": {
    "created_in_deepnote_cell": true,
    "deepnote_cell_type": "markdown",
    "tags": []
   },
   "source": [
    "<a style='text-decoration:none;line-height:16px;display:flex;color:#5B5B62;padding:10px;justify-content:end;' href='https://deepnote.com?utm_source=created-in-deepnote-cell&projectId=3153a7d7-d002-46d2-92c0-97b6da9ea7da' target=\"_blank\">\n",
    "<img alt='Created in deepnote.com' style='display:inline;max-height:16px;margin:0px;margin-right:7.5px;' src='data:image/svg+xml;base64,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' > </img>\n",
    "Created in <span style='font-weight:600;margin-left:4px;'>Deepnote</span></a>"
   ]
  }
 ],
 "metadata": {
  "deepnote": {},
  "deepnote_execution_queue": [],
  "deepnote_notebook_id": "dbe89748-ded5-4a40-bb84-3eb82a001e24",
  "kernelspec": {
   "display_name": "Python 3 (ipykernel)",
   "language": "python",
   "name": "python3"
  },
  "language_info": {
   "codemirror_mode": {
    "name": "ipython",
    "version": 3
   },
   "file_extension": ".py",
   "mimetype": "text/x-python",
   "name": "python",
   "nbconvert_exporter": "python",
   "pygments_lexer": "ipython3",
   "version": "3.9.7"
  }
 },
 "nbformat": 4,
 "nbformat_minor": 5
}
