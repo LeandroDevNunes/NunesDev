{
 "cells": [
  {
   "cell_type": "code",
   "execution_count": null,
   "id": "d976a8e3",
   "metadata": {},
   "outputs": [],
   "source": [
    "import pandas as pd\n",
    "import numpy as np"
   ]
  },
  {
   "cell_type": "markdown",
   "id": "824882de",
   "metadata": {},
   "source": [
    "#### a) Crie duas bases fictícias (base A contendo 10 registros e trazendo cpf e idade do cliente como campos, e base B com 3 registros contendo cpf e nome do cliente). Cruze as 2 bases usando os 4 diferentes métodos (inner, left, right e outer). Comente as diferenças."
   ]
  },
  {
   "cell_type": "code",
   "execution_count": null,
   "id": "adf3f71f",
   "metadata": {},
   "outputs": [],
   "source": [
    "# Criando os dataset A e B\n",
    "base_A = pd.DataFrame({\n",
    "    \"cpf\":[\n",
    "        11111111111,\n",
    "        22222222222,\n",
    "        33333333333,\n",
    "        44444444444,\n",
    "        55555555555,\n",
    "        66666666666,\n",
    "        77777777777,\n",
    "        88888888888,\n",
    "        99999999999,\n",
    "        12345678912\n",
    "    ],\n",
    "    \"idade\":[11,12,13,14,15,16,17,18,19,20]\n",
    "})\n",
    "print(base_A)\n",
    "\n",
    "base_B = pd.DataFrame({\n",
    "    \"cpf\":[11111111111,22222222222,55555555555],\n",
    "    \"nome\":['Paulo','Gabriel','Guilherme']\n",
    "})\n",
    "print(base_B)"
   ]
  },
  {
   "cell_type": "code",
   "execution_count": null,
   "id": "fa0f9c05",
   "metadata": {},
   "outputs": [],
   "source": [
    "# Cruzando dados da tabela A e da B - inner join\n",
    "\n",
    "pd.merge(base_A, base_B, on=\"cpf\", how=\"inner\")"
   ]
  },
  {
   "cell_type": "code",
   "execution_count": null,
   "id": "aa997896",
   "metadata": {},
   "outputs": [],
   "source": [
    "# Cruzando dados da tabela A e da B - left join\n",
    "\n",
    "pd.merge(base_A, base_B, on=\"cpf\", how=\"left\")"
   ]
  },
  {
   "cell_type": "code",
   "execution_count": null,
   "id": "bcf9cebc",
   "metadata": {},
   "outputs": [],
   "source": [
    "# Cruzando dados da tabela A e da B - right join\n",
    "\n",
    "pd.merge(base_A, base_B, on=\"cpf\", how=\"right\")"
   ]
  },
  {
   "cell_type": "code",
   "execution_count": null,
   "id": "dabe7538",
   "metadata": {},
   "outputs": [],
   "source": [
    "# Cruzando dados da tabela A e da B - full join\n",
    "\n",
    "pd.merge(base_A, base_B, on=\"cpf\", how=\"outer\")"
   ]
  },
  {
   "cell_type": "markdown",
   "id": "d2f0575e",
   "metadata": {},
   "source": [
    "#### b) Com relação à base \"PeopleAnalytics.txt\""
   ]
  },
  {
   "cell_type": "code",
   "execution_count": null,
   "id": "c1b9157f",
   "metadata": {},
   "outputs": [],
   "source": [
    "# Importando um arquivo no formato .txt\n",
    "\n",
    "people = pd.read_csv('people-analytics.txt', sep='\\t')F, \n",
    "\n",
    "people.head()"
   ]
  },
  {
   "cell_type": "code",
   "execution_count": null,
   "id": "0e6ac880",
   "metadata": {},
   "outputs": [],
   "source": [
    "# Como a base não existe o campo dos funcionários que saíram da empresa (left=1), considerar o campo Attrition = \"yes\"\n",
    "# como sendo os funcionários que saíram da empresa\n",
    "\n",
    "# a) Qual a quantidade de funcionários que saiu da empresa (left 1)\n",
    "\n",
    "people_saiu = people.query(\"Attrition == 'Yes'\") # Outro dataframe\n",
    "\n",
    "print(people_saiu.shape[0])\n",
    "\n",
    "print(\"A quantidade de pessoas que saíram da empresa foram:\", len(people_saiu), \"funcionários\")\n",
    "\n",
    "# basepop.query(\"populosos<10000000 & Estados== 'ES' \")"
   ]
  },
  {
   "cell_type": "code",
   "execution_count": null,
   "id": "edd6e79a",
   "metadata": {},
   "outputs": [],
   "source": [
    "# b) Qual a percepção de funconários que recebem \"Stock Options\"? \n",
    "# Ela varia entre pessoas que sairam e pessoas que não sairam da empresa?\n",
    "\n",
    "people_stock = people.query(\"StockOptionLevel == '1'\")"
   ]
  },
  {
   "cell_type": "code",
   "execution_count": null,
   "id": "3bd34bec",
   "metadata": {},
   "outputs": [],
   "source": [
    "print(\"O Total de funcionários e ex-funcionários é:\", len(people))\n",
    "print(\"O Total de func. e ex-func. que receberam Stock Options é:\", len(people.query(\"StockOptionLevel == 1\")))\n",
    "print(\"O percentual dos func e ex-func que receberam stock options é de:\", round(len(people.query(\"StockOptionLevel == 1\")) / len(people) * 100, 2), '%' )\n",
    "print(\"O percentual dos func que receberam Stock Options é de:\", (len(people.query(\"Attrition == 'No' & StockOptionLevel == 1\")) / len(people)) * 100, \"%\")\n",
    "print(\"O percentual dos ex-func que receberam Stock Options é de:\", (len(people.query(\"Attrition == 'Yes' & StockOptionLevel == 1\")) / len(people)) * 1"
   ]
  },
  {
   "cell_type": "markdown",
   "id": "cfba4877",
   "metadata": {},
   "source": [
    "#### Qual a distância média da casa do funcionário até o trabalho? \n",
    "#### Como isso varia entre pessoas que saíram da empresa e pessoas que ficaram?"
   ]
  },
  {
   "cell_type": "code",
   "execution_count": null,
   "id": "b70e65e7",
   "metadata": {},
   "outputs": [],
   "source": [
    "# Distancia media ate o trabalho de func e ex func\n",
    "dist_media = people['DistanceFromHome'].mean()\n",
    "print(\"A distância média da casa dos funcionários e ex funcioarios até o trabalho é de:\", dist_media)\n",
    "\n",
    "# Distancia media ate o trabalho de func\n",
    "func = people.query(\"Attrition == 'No'\")\n",
    "dist_media_func = func['DistanceFromHome'].mean()\n",
    "print(\"A distância média da casa dos funcionários até o trabalho é de:\", dist_media_func)\n",
    "\n",
    "# Distancia media ate o trabalho de ex func\n",
    "ex_func = people.query(\"Attrition == 'Yes'\")\n",
    "dist_media_ex_func = ex_func['DistanceFromHome'].mean()\n",
    "print(\"A distância média da casa dos ex funcionários até o trabalho é de:\", dist_media_ex_func)"
   ]
  },
  {
   "cell_type": "markdown",
   "id": "ff97e26b",
   "metadata": {},
   "source": [
    "#### d) Crie uma varíavel que divida a variável \"TecalWorkingYears em faixas (Até 3, 4-6, 7-10 e >10 anos). \n",
    "#### Qual a quantidade de funcionários em cada uma das faixas?\n",
    "#### Essaconcentração varia muito entre pessoas que saíram ou não da empresa?"
   ]
  },
  {
   "cell_type": "code",
   "execution_count": null,
   "id": "a093802a",
   "metadata": {},
   "outputs": [],
   "source": [
    "# Primeira opção para categorizar o tempo de trabalho proposta pelo professor do plantão de dúvidas\n",
    "\n",
    "condicoes = [\n",
    "    (people[\"TotalWorkingYears\"] <= 3),\n",
    "    (people[\"TotalWorkingYears\"] >= 4) & (people[\"TotalWorkingYears\"] <=6), \n",
    "    (people[\"TotalWorkingYears\"] >= 7) & (people[\"TotalWorkingYears\"] <=10),\n",
    "    (people[\"TotalWorkingYears\"] > 10)\n",
    "]\n",
    "classe = [\"ate 3\", \"entre 4 e 7\", \"entre 7 e 10\", \"acima de 10\"]\n",
    "people['Tempo_em_anos'] = np.select(condicoes, classe, default = \"Sem Info\")\n",
    "people"
   ]
  },
  {
   "cell_type": "code",
   "execution_count": null,
   "id": "8fd82248",
   "metadata": {},
   "outputs": [],
   "source": [
    "# Segunda opção proposta por Rodrigo \n",
    "\n",
    "def condition(years):\n",
    "    if years <= 3:\n",
    "        return 'less than or equal 3'\n",
    "    elif years <= 6:\n",
    "        return 'between 4 and 7'\n",
    "    elif years <= 10:\n",
    "        return 'between 7 and 10'\n",
    "    else:\n",
    "        return 'greater than 10'\n",
    "\n",
    "people.assign(YearsOfWork=people['TotalWorkingYears'].apply(condition))"
   ]
  },
  {
   "cell_type": "code",
   "execution_count": null,
   "id": "a6d3a5be",
   "metadata": {},
   "outputs": [],
   "source": [
    "df = people.groupby('Tempo_em_anos')['Attrition'].count()\n",
    "print(df)"
   ]
  },
  {
   "cell_type": "code",
   "execution_count": null,
   "id": "dc2cf272",
   "metadata": {},
   "outputs": [],
   "source": [
    "df2 = people.query(\"Attrition=='Yes'\").groupby('Tempo_em_anos')['Attrition'].count()\n",
    "print(df2)"
   ]
  },
  {
   "cell_type": "code",
   "execution_count": null,
   "id": "fad37e09",
   "metadata": {},
   "outputs": [],
   "source": [
    "df2 = people.query(\"Attrition=='No'\").groupby('Tempo_em_anos')['Attrition'].count()\n",
    "print(df2)"
   ]
  }
 ],
 "metadata": {
  "kernelspec": {
   "display_name": "Python 3 (ipykernel)",
   "language": "python",
   "name": "python3"
  },
  "language_info": {
   "codemirror_mode": {
    "name": "ipython",
    "version": 3
   },
   "file_extension": ".py",
   "mimetype": "text/x-python",
   "name": "python",
   "nbconvert_exporter": "python",
   "pygments_lexer": "ipython3",
   "version": "3.9.7"
  }
 },
 "nbformat": 4,
 "nbformat_minor": 5
}
