{
 "cells": [
  {
   "cell_type": "markdown",
   "id": "c7005d7b",
   "metadata": {},
   "source": [
    "# <center>Sessão III</center>"
   ]
  },
  {
   "cell_type": "code",
   "execution_count": 9,
   "id": "711264c1",
   "metadata": {},
   "outputs": [
    {
     "name": "stdout",
     "output_type": "stream",
     "text": [
      "220\n"
     ]
    }
   ],
   "source": [
    "# Operadores de atribuição\n",
    "valor=100\n",
    "valor+=120\n",
    "print(valor)"
   ]
  },
  {
   "cell_type": "code",
   "execution_count": 11,
   "id": "c46dd21e",
   "metadata": {},
   "outputs": [
    {
     "name": "stdout",
     "output_type": "stream",
     "text": [
      "4.166666666666667\n"
     ]
    }
   ],
   "source": [
    "#Operadores de atribuição\n",
    "valor=50\n",
    "valor/=12\n",
    "print(valor)"
   ]
  },
  {
   "cell_type": "code",
   "execution_count": 14,
   "id": "e60573c6",
   "metadata": {},
   "outputs": [
    {
     "name": "stdout",
     "output_type": "stream",
     "text": [
      "3000\n"
     ]
    }
   ],
   "source": [
    "#Operadores Lógicos\n",
    "valor=100\n",
    "valor*=30\n",
    "print(valor)"
   ]
  },
  {
   "cell_type": "code",
   "execution_count": 12,
   "id": "626697dd",
   "metadata": {},
   "outputs": [
    {
     "data": {
      "text/plain": [
       "True"
      ]
     },
     "execution_count": 12,
     "metadata": {},
     "output_type": "execute_result"
    }
   ],
   "source": [
    "#Operadores Lógicos\n",
    "valor1=50\n",
    "valor2=150\n",
    "valor1<=50 and valor2>30"
   ]
  },
  {
   "cell_type": "code",
   "execution_count": 17,
   "id": "a8f27936",
   "metadata": {},
   "outputs": [
    {
     "data": {
      "text/plain": [
       "False"
      ]
     },
     "execution_count": 17,
     "metadata": {},
     "output_type": "execute_result"
    }
   ],
   "source": [
    "#Operadores Lógicos\n",
    "valor1=20\n",
    "valor2=1\n",
    "valor1>30 or valor1==0"
   ]
  },
  {
   "cell_type": "code",
   "execution_count": 27,
   "id": "5ca740cf",
   "metadata": {},
   "outputs": [
    {
     "name": "stdout",
     "output_type": "stream",
     "text": [
      "Verdade\n"
     ]
    }
   ],
   "source": [
    "#Dado que valor1=50, valor2=0, como vc avalia valor1-valor2>1 and valor1+valor2>0?\n",
    "valor1=50\n",
    "valor2=0\n",
    "if valor1-valor2>1 and valor1+valor2>0:\n",
    "    print(\"Verdade\")"
   ]
  },
  {
   "cell_type": "code",
   "execution_count": 29,
   "id": "11eb527e",
   "metadata": {},
   "outputs": [
    {
     "name": "stdout",
     "output_type": "stream",
     "text": [
      "Verdade\n"
     ]
    }
   ],
   "source": [
    "#Se a condição(valor1+valor2)>0 for verdadeira, exiba a mensagem \"Verdade!\n",
    "if (valor1+valor2)>0:\n",
    "    print(\"Verdade\")"
   ]
  },
  {
   "cell_type": "code",
   "execution_count": 30,
   "id": "e8309e6c",
   "metadata": {},
   "outputs": [
    {
     "name": "stdout",
     "output_type": "stream",
     "text": [
      "Verdade\n"
     ]
    }
   ],
   "source": [
    "#Se a condição not (valor2>0) for verdadeira, exiba a mensagem \"Verdade!\"\n",
    "if not (valor2>0):\n",
    "    print(\"Verdade\")"
   ]
  },
  {
   "cell_type": "code",
   "execution_count": 33,
   "id": "66574bd9",
   "metadata": {},
   "outputs": [
    {
     "ename": "NameError",
     "evalue": "name 'T' is not defined",
     "output_type": "error",
     "traceback": [
      "\u001b[1;31m---------------------------------------------------------------------------\u001b[0m",
      "\u001b[1;31mNameError\u001b[0m                                 Traceback (most recent call last)",
      "\u001b[1;32m~\\AppData\\Local\\Temp/ipykernel_14916/2108315103.py\u001b[0m in \u001b[0;36m<module>\u001b[1;34m\u001b[0m\n\u001b[0;32m      1\u001b[0m \u001b[1;31m#Teste as seguintes condições no Python: T and F, F and F, F or F, T or F, T or T. O que você observou?\u001b[0m\u001b[1;33m\u001b[0m\u001b[1;33m\u001b[0m\u001b[0m\n\u001b[1;32m----> 2\u001b[1;33m \u001b[0mT\u001b[0m \u001b[1;32mand\u001b[0m \u001b[0mF\u001b[0m\u001b[1;33m\u001b[0m\u001b[1;33m\u001b[0m\u001b[0m\n\u001b[0m\u001b[0;32m      3\u001b[0m \u001b[0mF\u001b[0m \u001b[1;32mand\u001b[0m \u001b[0mF\u001b[0m\u001b[1;33m\u001b[0m\u001b[1;33m\u001b[0m\u001b[0m\n\u001b[0;32m      4\u001b[0m \u001b[0mF\u001b[0m \u001b[1;32mor\u001b[0m \u001b[0mF\u001b[0m\u001b[1;33m\u001b[0m\u001b[1;33m\u001b[0m\u001b[0m\n\u001b[0;32m      5\u001b[0m \u001b[0mT\u001b[0m \u001b[1;32mor\u001b[0m \u001b[0mF\u001b[0m\u001b[1;33m\u001b[0m\u001b[1;33m\u001b[0m\u001b[0m\n",
      "\u001b[1;31mNameError\u001b[0m: name 'T' is not defined"
     ]
    }
   ],
   "source": [
    "#Teste as seguintes condições no Python: T and F, F and F, F or F, T or F, T or T. O que você observou?\n",
    "T and F\n",
    "F and F\n",
    "F or F\n",
    "T or F\n",
    "T or T.O "
   ]
  }
 ],
 "metadata": {
  "kernelspec": {
   "display_name": "Python 3 (ipykernel)",
   "language": "python",
   "name": "python3"
  },
  "language_info": {
   "codemirror_mode": {
    "name": "ipython",
    "version": 3
   },
   "file_extension": ".py",
   "mimetype": "text/x-python",
   "name": "python",
   "nbconvert_exporter": "python",
   "pygments_lexer": "ipython3",
   "version": "3.9.7"
  }
 },
 "nbformat": 4,
 "nbformat_minor": 5
}
